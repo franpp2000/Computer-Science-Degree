{
  "nbformat": 4,
  "nbformat_minor": 0,
  "metadata": {
    "colab": {
      "provenance": [],
      "collapsed_sections": []
    },
    "kernelspec": {
      "name": "python3",
      "display_name": "Python 3"
    },
    "language_info": {
      "name": "python"
    }
  },
  "cells": [
    {
      "cell_type": "markdown",
      "source": [
        "\n",
        "---\n",
        "# **Proyecto Final Aprendizaje Automático 2021-2022**\n",
        "---\n",
        "\n",
        "\n",
        "##**Alumno 1** : Francisco Pertíñez Perea\n",
        "##**Alumno 2** : Álvaro Santana Sánchez\n",
        "\n",
        "##**Grupo**: A2\n",
        "\n",
        "\n",
        "#**BBDD**: Cardiotocography\n",
        "\n",
        "<img src=\"https://drive.google.com/uc?export=view&id=14m680B612TzlB7QpsKPwDVVomn-dYUxU\">\n"
      ],
      "metadata": {
        "id": "Wy8ifZhkIbL-"
      }
    },
    {
      "cell_type": "markdown",
      "source": [
        "<font color=red size=5>***1. Definición del problema a resolver y enfoque elegido. Identifique el uso de los datos en el\n",
        "ajuste y valoración de resultados***</font>\n",
        "\n",
        "\n",
        "- Información extraída del repositorio UCI:\n",
        "http://archive.ics.uci.edu/ml/datasets/Cardiotocography\n",
        "\n",
        "\n",
        "- **Descripción del problema**: \n",
        "  - El conjunto de datos consta de una serie de mediciones sobre\n",
        "frecuencias cardiacas fetales y características de contracción uterina en un cardiograma. \n",
        "  - El objetivo es realizar una clasificación sobre el estado de los fetos a partir de dichas\n",
        "características. La clasificación dentro del dataset ha sido realizada por obstetras expertos.\n",
        "\n",
        "  - Se utilizará un enfoque de aprendizaje supervisado, ya que no existe un modelo establecido que ajustando los parámetros nos permita resolver el problema ( diseño ) y los elementos contienen etiquetas.\n",
        "\n",
        "\n",
        "- **Conjunto de datos $X$**: 2126 instancias con 23 atributos\n",
        "  - Información de los atributos:\n",
        "    - LB - latidos por minuto\n",
        "    - AC - aceleraciones por segundo\n",
        "    - FM - movimientos fetales por segundo\n",
        "    - UC - contracciones del útero por segundo\n",
        "    - DL - desaceleraciones suaves por segundo\n",
        "    - DS - deceleraciones fuertes por segundo -\n",
        "    - DP - deceleraciones prolongadas por segundo\n",
        "    - ASTV - porcentaje de tiempo con variabilidad anormal a corto plazo\n",
        "    - MST - valor medio de la variabilidad a corto plazo\n",
        "    - VALTV - porcentaje de tiempo con variabilidad anormal a largo plazo\n",
        "    - MLTV - valor medio de la variabilidad a largo plazo\n",
        "    - Width - ancho del histograma FHR\n",
        "    - Min - Mínimo del histograma FHR\n",
        "    - Max - Máximo del histograma FHR\n",
        "    - Nmax - picos del histograma\n",
        "    - Nzeros - ceros del histograma\n",
        "    - Mode - modo del histograma\n",
        "    - Mean -media del histograma\n",
        "    - Median - mediana del histograma\n",
        "    - Variance - varianza del histograma\n",
        "    - Tendency - tendencia del histograma\n",
        "    - CLASS - código del patrón de clase de FHR ( del 1 al 10 )\n",
        "NSP - código del estado del feto (N=normal; S=sospechoso; P=patológico).\n",
        "\n",
        "    - El resto de variables ( A , B , C... ) son patrones morfológicos con los que se realiza la\n",
        "primera clasificación.\n",
        "\n",
        "\n",
        "- **Conjunto de etiquetas $Y$**: Existen dos salidas posibles a la clasificación. \n",
        "  - La primera en un código de patrón de clase de FHR con 10 posibles valores. \n",
        "  - El segundo un código de estado que indica si un fetos se encuentra normal ( indicado con un 1 ), se tienen sospechas ( indicado con un 2 ) o contiene alguna patología ( indicado con un 3).   \n",
        "  \n",
        "  - Se debe escoger entre uno de los dos, luego **se trabajará con la clasificación NSP** debido a su facilidad de entendimiento.\n",
        "\n",
        "- **Función de etiquetado $f$**: Es la función que trataremos de predecir y no conocemos, la\n",
        "cual, dada un elemento determina si contiene alguna patología o puede ser sospechoso de\n",
        "ella\n",
        "\n",
        "------------------\n"
      ],
      "metadata": {
        "id": "Z6PIVhxTWI2d"
      }
    },
    {
      "cell_type": "code",
      "source": [
        "import pandas as pd\n",
        "\n",
        "from google.colab import drive\n",
        "drive.mount('/content/drive') #Cargar datos del drive\n",
        "\n",
        "#Leemos los datos con pandas\n",
        "data = pd.read_csv('/content/drive/MyDrive/Colab Notebooks/datos/ProyectoFinal/CTG.csv',skip_blank_lines=True)\n",
        "data = data.drop(0,axis=0)\n",
        "#Eliminamos las columnas de datos no relevates\n",
        "data = data.drop('FileName', axis=1)\n",
        "data = data.drop('SegFile', axis=1)\n",
        "data = data.drop('Date', axis=1)\n",
        "data = data.drop('e', axis=1)\n",
        "data = data.drop('b', axis=1)\n",
        "data = data.drop('LBE', axis=1)\n",
        "data = data.drop('CLASS', axis=1)\n",
        "data = data.drop('DR', axis=1)\n",
        "data = data.drop('A', axis=1)\n",
        "data = data.drop('B', axis=1)\n",
        "data = data.drop('C', axis=1)\n",
        "data = data.drop('E', axis=1)\n",
        "data = data.drop('AD', axis=1)\n",
        "data = data.drop('DE', axis=1)\n",
        "data = data.drop('LD', axis=1)\n",
        "data = data.drop('FS', axis=1)\n",
        "data = data.drop('SUSP', axis=1)\n",
        "\n",
        "print('\\n\\033[1mConjunto de datos:\\033[0m', 'CTG.csv')\n",
        "print('\\033[1mEjemplos en el dataset: \\033[0m',data.shape[0])\n",
        "print('\\033[1mNúmero de características por ejemplo + etiqueta:\\033[0m',data.shape[1])\n",
        "print('\\n\\033[1mTipos de atributos utilizados:\\033[0m \\n',data.dtypes)\n",
        "\n",
        "\n",
        "print(data)\n"
      ],
      "metadata": {
        "id": "PiyZcsyCJWNu",
        "colab": {
          "base_uri": "https://localhost:8080/"
        },
        "outputId": "b8626088-2b5f-4072-a180-63a4f9ea0690"
      },
      "execution_count": null,
      "outputs": [
        {
          "output_type": "stream",
          "name": "stdout",
          "text": [
            "Drive already mounted at /content/drive; to attempt to forcibly remount, call drive.mount(\"/content/drive\", force_remount=True).\n",
            "\n",
            "\u001b[1mConjunto de datos:\u001b[0m CTG.csv\n",
            "\u001b[1mEjemplos en el dataset: \u001b[0m 2126\n",
            "\u001b[1mNúmero de características por ejemplo + etiqueta:\u001b[0m 23\n",
            "\n",
            "\u001b[1mTipos de atributos utilizados:\u001b[0m \n",
            " LB          float64\n",
            "AC          float64\n",
            "FM          float64\n",
            "UC          float64\n",
            "ASTV        float64\n",
            "MSTV        float64\n",
            "ALTV        float64\n",
            "MLTV        float64\n",
            "DL          float64\n",
            "DS          float64\n",
            "DP          float64\n",
            "Width       float64\n",
            "Min         float64\n",
            "Max         float64\n",
            "Nmax        float64\n",
            "Nzeros      float64\n",
            "Mode        float64\n",
            "Mean        float64\n",
            "Median      float64\n",
            "Variance    float64\n",
            "Tendency    float64\n",
            "D           float64\n",
            "NSP         float64\n",
            "dtype: object\n",
            "         LB   AC   FM   UC  ASTV  MSTV  ALTV  MLTV   DL   DS  ...    Max  \\\n",
            "1     120.0  0.0  0.0  0.0  73.0   0.5  43.0   2.4  0.0  0.0  ...  126.0   \n",
            "2     132.0  4.0  0.0  4.0  17.0   2.1   0.0  10.4  2.0  0.0  ...  198.0   \n",
            "3     133.0  2.0  0.0  5.0  16.0   2.1   0.0  13.4  2.0  0.0  ...  198.0   \n",
            "4     134.0  2.0  0.0  6.0  16.0   2.4   0.0  23.0  2.0  0.0  ...  170.0   \n",
            "5     132.0  4.0  0.0  5.0  16.0   2.4   0.0  19.9  0.0  0.0  ...  170.0   \n",
            "...     ...  ...  ...  ...   ...   ...   ...   ...  ...  ...  ...    ...   \n",
            "2122  140.0  0.0  0.0  6.0  79.0   0.2  25.0   7.2  0.0  0.0  ...  177.0   \n",
            "2123  140.0  1.0  0.0  9.0  78.0   0.4  22.0   7.1  0.0  0.0  ...  169.0   \n",
            "2124  140.0  1.0  0.0  7.0  79.0   0.4  20.0   6.1  0.0  0.0  ...  170.0   \n",
            "2125  140.0  1.0  0.0  9.0  78.0   0.4  27.0   7.0  0.0  0.0  ...  169.0   \n",
            "2126  142.0  1.0  1.0  5.0  74.0   0.4  36.0   5.0  0.0  0.0  ...  159.0   \n",
            "\n",
            "      Nmax  Nzeros   Mode   Mean  Median  Variance  Tendency    D  NSP  \n",
            "1      2.0     0.0  120.0  137.0   121.0      73.0       1.0  0.0  2.0  \n",
            "2      6.0     1.0  141.0  136.0   140.0      12.0       0.0  0.0  1.0  \n",
            "3      5.0     1.0  141.0  135.0   138.0      13.0       0.0  0.0  1.0  \n",
            "4     11.0     0.0  137.0  134.0   137.0      13.0       1.0  0.0  1.0  \n",
            "5      9.0     0.0  137.0  136.0   138.0      11.0       1.0  0.0  1.0  \n",
            "...    ...     ...    ...    ...     ...       ...       ...  ...  ...  \n",
            "2122   4.0     0.0  153.0  150.0   152.0       2.0       0.0  0.0  2.0  \n",
            "2123   6.0     0.0  152.0  148.0   151.0       3.0       1.0  0.0  2.0  \n",
            "2124   5.0     0.0  153.0  148.0   152.0       4.0       1.0  0.0  2.0  \n",
            "2125   6.0     0.0  152.0  147.0   151.0       4.0       1.0  0.0  2.0  \n",
            "2126   2.0     1.0  145.0  143.0   145.0       1.0       0.0  0.0  1.0  \n",
            "\n",
            "[2126 rows x 23 columns]\n"
          ]
        }
      ]
    },
    {
      "cell_type": "markdown",
      "source": [
        "\n",
        "**Creación de los datos de entrenamiento**:\n",
        "Antes de realizar el análisis de los datos se debe de realizar una partición en training-test, la cuál será posteriormente utilizada para la estimación del error fuera de la muestra. Al\n",
        "realizar previamente la división evitaremos el data-snooping el cuál podrá dar lugar a\n",
        "modelos sesgados hacia nuestros datos y el problema no habrá sido abordado de manera\n",
        "acertada. \n",
        "\n",
        "- Para la división tomaremos un 80% de los datos para training ( 1700 elementos )\n",
        "y un 20% ( 426 elementos ) para test, los cuales son valores típicos. \n",
        "\n",
        "- El problema del conjunto de datos es que el número de ejemplos puede ser considerado bajo ( en torno a los 2000 ), pero debemos de establecer un compromiso entre usar menos datos para\n",
        "entrenar y por tanto pagar la penalización en el modelo ajustado, o usar menos datos en el\n",
        "conjunto de test y obtener una medición de error que sea menos representativa de aquello\n",
        "que pasará fuera de la muestra . \n",
        "\n",
        "- Utilizando dichos valores, nuestro error de test generaliza según la siguiente cota, teniendo en cuenta que como se usa una sola hipótesis $|H| = 1$:\n",
        "  - <font color=blue>$$E_{out}(h) \\leq E_{test}(h) + \\sqrt{\\frac{1}{2N}log \\frac{2|H|}{\\delta}} $$</font>\n",
        "    - Para una confianza del 96% ( $\\delta = 0.04 $ ):\n",
        "  - <font color=blue>$$E_{out}(h) \\leq E_{test}(h) + 0.04465 $$</font>\n",
        "\n",
        "\n",
        "**Función usada para la división:** usaremos la siguiente funcion que nos proporciona sklearn:\n",
        "\n",
        "sklearn.model_selection.train_test_split(*arrays, test_size=None, train_size=None,\n",
        "random_state=None, shuffle=True, stratify=None)\n",
        "\n",
        "- **Descripción de parámetros**:\n",
        "  - *arrays : sequence of indexables with same length / shape[0]\n",
        "Referido al conjunto de elementos y etiquetas.\n",
        "  - test_size: float or int, default=None\n",
        "Tamaño del test a usar. Permite números enteros o flotantes, estando esto últimos entre 0 y 1. Por tanto indicaremos que use el 20% de los datos para test con 0.2 .\n",
        "  - training_size: float or int, default=None\n",
        "Misma idea, para indicarle el 80% de los datos podemos usar un flotante 0.8. Con indicar\n",
        "uno de los dos parámetros es suficiente.\n",
        "  - random_state: int, RandomState instance or None, default=None\n",
        "Permite controlar la mezcla aleatoria realizada antes de la partición de los datos. Siempre\n",
        "que el entero pasado no cambie, en todas nuestras ejecuciones la mezcla será la misma.\n",
        "  - shuffle: bool, default=True\n",
        "Indica si dicha mezcla aleatoria se producirá o no. Usaremos el valor true ya que siempre es\n",
        "buena idea mezclar nuestros datos aleatoriamente, además en muchos ficheros suelen\n",
        "venir ordenados utilizando algún criterio, lo cuál trataremos de evitar.\n",
        "  - stratify: array-like, default=None\n",
        "Indica si los datos se dividirán de una manera estratificada en el conjunto indicado ( en\n",
        "nuestro caso las clases ). Esto significa que si la distribución de etiquetas no está\n",
        "compensada, es decir, existen muchos más ejemplos de una clase que de otra entonces se\n",
        "distribuirán de forma que en un cross-validation de k-folds, los k-folds contengan una\n",
        "proporción similar de ambas clases"
      ],
      "metadata": {
        "id": "VlvSctL7Je9C"
      }
    },
    {
      "cell_type": "code",
      "source": [
        "\n",
        "import matplotlib.pyplot as plt\n",
        "from sklearn.model_selection import train_test_split\n",
        "\n",
        "\n",
        "#Separamos en un conjunto X de datos y un conjunto Y de etiquetas (columna y)\n",
        "dataX = data.drop('NSP', axis=1)\n",
        "dataY = data['NSP']\n",
        "\n",
        "#Relizamos la separación en conjuntos de test y training\n",
        "X_train, X_test, y_train, y_test = train_test_split(dataX, dataY, test_size = 0.2, random_state = 45,stratify=dataY)\n",
        "print('\\033[1mPrimeros elementos del conjunto de entrenamiento:\\033[0m ')\n",
        "print(dataX.head())\n",
        "print('\\n\\033[1mEtiquetas asociadas:\\033[0m ')\n",
        "print(dataY.head())\n",
        "print('\\n\\033[1mTamaño final entrenamiento:\\033[0m ', X_train.shape[0])\n",
        "print('\\033[1mTamaño final test:\\033[0m ', X_test.shape[0])\n"
      ],
      "metadata": {
        "colab": {
          "base_uri": "https://localhost:8080/"
        },
        "id": "P8oI9g1JJhVj",
        "outputId": "01b8cdec-80b2-4aac-9037-1395e42be816"
      },
      "execution_count": null,
      "outputs": [
        {
          "output_type": "stream",
          "name": "stdout",
          "text": [
            "\u001b[1mPrimeros elementos del conjunto de entrenamiento:\u001b[0m \n",
            "      LB   AC   FM   UC  ASTV  MSTV  ALTV  MLTV   DL   DS  ...   Min    Max  \\\n",
            "1  120.0  0.0  0.0  0.0  73.0   0.5  43.0   2.4  0.0  0.0  ...  62.0  126.0   \n",
            "2  132.0  4.0  0.0  4.0  17.0   2.1   0.0  10.4  2.0  0.0  ...  68.0  198.0   \n",
            "3  133.0  2.0  0.0  5.0  16.0   2.1   0.0  13.4  2.0  0.0  ...  68.0  198.0   \n",
            "4  134.0  2.0  0.0  6.0  16.0   2.4   0.0  23.0  2.0  0.0  ...  53.0  170.0   \n",
            "5  132.0  4.0  0.0  5.0  16.0   2.4   0.0  19.9  0.0  0.0  ...  53.0  170.0   \n",
            "\n",
            "   Nmax  Nzeros   Mode   Mean  Median  Variance  Tendency    D  \n",
            "1   2.0     0.0  120.0  137.0   121.0      73.0       1.0  0.0  \n",
            "2   6.0     1.0  141.0  136.0   140.0      12.0       0.0  0.0  \n",
            "3   5.0     1.0  141.0  135.0   138.0      13.0       0.0  0.0  \n",
            "4  11.0     0.0  137.0  134.0   137.0      13.0       1.0  0.0  \n",
            "5   9.0     0.0  137.0  136.0   138.0      11.0       1.0  0.0  \n",
            "\n",
            "[5 rows x 22 columns]\n",
            "\n",
            "\u001b[1mEtiquetas asociadas:\u001b[0m \n",
            "1    2.0\n",
            "2    1.0\n",
            "3    1.0\n",
            "4    1.0\n",
            "5    1.0\n",
            "Name: NSP, dtype: float64\n",
            "\n",
            "\u001b[1mTamaño final entrenamiento:\u001b[0m  1700\n",
            "\u001b[1mTamaño final test:\u001b[0m  426\n"
          ]
        }
      ]
    },
    {
      "cell_type": "markdown",
      "source": [
        "**DESEQUILIBRIO DE CLASES**\n",
        "\n",
        "En primera instancia vamos a medir la distribución de clases. Encontramos que en un 77.82% los ejemplos son referentes a la clase 1 ( fetos normales ), en un 13.88% fetos sospechosos y un 8.24% fetos que presentan patologías. Dicha distribución de etiquetas era esperada debido a la naturaleza del problema ( comúnmente la mayoría de fetos se desarrollan de una manera normal ), pero nos obliga a trabajar con desequilibrio lo cuál puede tener implicaciones en el modelo las cuales se irán comentando a lo largo del proyecto."
      ],
      "metadata": {
        "id": "6TTUdNLXJ3la"
      }
    },
    {
      "cell_type": "code",
      "source": [
        "#Medimos el porcentaje de etiquetas de cada tipo\n",
        "etiquetasCount = y_train.value_counts()\n",
        "print(\"\\033[1m FIG 1.1 FRECUENCIA DE LAS ETIQUETAS:\\033[0m \")\n",
        "print(\"\\033[1m CLASE 1:\\033[0m \",etiquetasCount[1.0] , '->',100*etiquetasCount[1.0]/y_train.shape[0],'%')\n",
        "print(\"\\033[1m CLASE 2:\\033[0m \",etiquetasCount[2.0], '->',100*etiquetasCount[2.0]/y_train.shape[0],'%')\n",
        "print(\"\\033[1m CLASE 3:\\033[0m \",etiquetasCount[3.0], '->',100*etiquetasCount[3.0]/y_train.shape[0],'%')\n",
        "etiquetasCount.plot(kind = \"bar\",color='green')\n",
        "plt.grid(axis='y', alpha=0.75)\n",
        "plt.xlabel('Etiqueta')\n",
        "plt.ylabel('Frecuencia')\n",
        "plt.title(\"Distribución de clases\")"
      ],
      "metadata": {
        "colab": {
          "base_uri": "https://localhost:8080/",
          "height": 393
        },
        "id": "Z9WAjmtCJrse",
        "outputId": "8025b389-1301-4f8f-f597-d97f123e119d"
      },
      "execution_count": null,
      "outputs": [
        {
          "output_type": "stream",
          "name": "stdout",
          "text": [
            "\u001b[1m FIG 1.1 FRECUENCIA DE LAS ETIQUETAS:\u001b[0m \n",
            "\u001b[1m CLASE 1:\u001b[0m  1323 -> 77.82352941176471 %\n",
            "\u001b[1m CLASE 2:\u001b[0m  236 -> 13.882352941176471 %\n",
            "\u001b[1m CLASE 3:\u001b[0m  141 -> 8.294117647058824 %\n"
          ]
        },
        {
          "output_type": "execute_result",
          "data": {
            "text/plain": [
              "Text(0.5, 1.0, 'Distribución de clases')"
            ]
          },
          "metadata": {},
          "execution_count": 293
        },
        {
          "output_type": "display_data",
          "data": {
            "text/plain": [
              "<Figure size 432x288 with 1 Axes>"
            ],
            "image/png": "[encoded data removed]"
          },
          "metadata": {
            "needs_background": "light"
          }
        }
      ]
    },
    {
      "cell_type": "markdown",
      "source": [
        "\n",
        "**ESTUDIO DE CORRELACIÓN ENTRE VARIABLES**:\n",
        " \n",
        "Podemos realizar una matriz de correlación entre atributos, sin embargo su representación será difícil de interpretar debido a la alta cantidad de atributos. Por tanto lo que haremos será calcular dicha matriz siguiendo como criterio el coeficiente de correlación de Pearson y a partir de dicho coeficiente calcular el porcentaje de valores relaciones según los siguientes criterios:\n",
        " \n",
        "- correlación total = 1 o -1: la relación es perfecta ya tenga pendiente positiva ( cuando una aumenta la otra también ) o negativa ( cuando una aumenta la otra disminuye )\n",
        " \n",
        "- correlación nula = 0 : no existe ninguna relación\n",
        " \n",
        "- correlación $\\in$ (-0.5,0.5): asociación débil\n",
        " \n",
        "- correlación $\\in$ (0.5,0.8) $\\cup$ (-0.8,-0.5): asociación moderada\n",
        " \n",
        "- correlación $\\in$ (0.8,1)  $\\cup$ (-1,-0.8) : asociación fuerte\n",
        " \n",
        "**Resultados:** Se aprecia que la mayoría de columnas tienen una asociación débil. Solo una pequeña cantidad de características cuenta con cierta relación moderada y otra pequeña cantidad de relaciones fuertes, las cuáles si pueden ser problemáticas a la hora del ajuste de nuestro modelo. Se observa también un porcentaje de atributos con relación total, los cuales podrían ser candidatos a unificarse, pero dicho porcentaje proviene de las correlaciones de cada atributo consigo mismo. Concluimos por tanto que cada columna contiene información propia que puede ser usada por el modelo para el aprendizaje, a expensas de algunos atributos cuyo coeficiente de pearson es superior a 0.8.\n",
        " \n",
        "Referencia: https://likegeeks.com/python-correlation-matrix/"
      ],
      "metadata": {
        "id": "eBim8j54Lt6c"
      }
    },
    {
      "cell_type": "code",
      "source": [
        "import seaborn as sns\n",
        "import numpy as np\n",
        "\n",
        "#Calculamos la matriz de correlacion\n",
        "correlation_mat = X_train.corr()\n",
        "valores = ['nula','debil','moderada','fuerte','total']\n",
        "altura = []\n",
        "\n",
        "#Calculamos el porcentaje de cada clase\n",
        "altura.append(100*len(np.where((correlation_mat == 0.0 ))[0])/(X_train.shape[1]*X_train.shape[1]))\n",
        "altura.append((100*len(np.where(((correlation_mat < 0.5) & (correlation_mat > 0.0)) |  ((correlation_mat > -0.5) & (correlation_mat < 0.0)) )[0]))/(X_train.shape[1]*X_train.shape[1]))\n",
        "altura.append((100*len(np.where(((correlation_mat >= 0.5) & (correlation_mat < 0.8)) |  ((correlation_mat <= -0.5) & (correlation_mat >= -0.8)) )[0]))/(X_train.shape[1]*X_train.shape[1]))\n",
        "altura.append((100*len(np.where(((correlation_mat >= 0.8) & (correlation_mat < 1)) |  ((correlation_mat <= -0.8) & (correlation_mat >= -1)) )[0]))/(X_train.shape[1]*X_train.shape[1]))\n",
        "altura.append((100*len(np.where((correlation_mat == 1 ) | (correlation_mat == -1))[0])/(X_train.shape[1]*X_train.shape[1])))"
      ],
      "metadata": {
        "id": "xD2Tq5wPLbQK"
      },
      "execution_count": null,
      "outputs": []
    },
    {
      "cell_type": "code",
      "source": [
        "print('\\033[1mFIG 1.2: Porcentajes de correlación entre variables según el coeficiente pearson\\033[0m')\n",
        "print('El porcentaje de atributos con relación total es debido a atributos consigo mismos')\n",
        "print('\\033[1mPorcentaje de correlaciones totales : \\033[0m',altura[4])\n",
        "print('\\033[1mPorcentaje de correlaciones de atributos medidas consigo mismo :\\033[0m',100*(1/X_train.shape[1]))\n",
        "print('\\n')\n",
        "plt.title('FIG 1.2: Porcentajes de correlación entre variables según el coeficiente pearson')\n",
        "plt.xlabel('Tipo de corelación')\n",
        "plt.ylabel('Porcentaje de atributos')\n",
        "plt.bar(valores,altura)"
      ],
      "metadata": {
        "colab": {
          "base_uri": "https://localhost:8080/",
          "height": 425
        },
        "id": "jkSqXu0hLfgR",
        "outputId": "8386cd7a-ddd5-474b-8e3f-071452221fce"
      },
      "execution_count": null,
      "outputs": [
        {
          "output_type": "stream",
          "name": "stdout",
          "text": [
            "\u001b[1mFIG 1.2: Porcentajes de correlación entre variables según el coeficiente pearson\u001b[0m\n",
            "El porcentaje de atributos con relación total es debido a atributos consigo mismos\n",
            "\u001b[1mPorcentaje de correlaciones totales : \u001b[0m 4.545454545454546\n",
            "\u001b[1mPorcentaje de correlaciones de atributos medidas consigo mismo :\u001b[0m 4.545454545454546\n",
            "\n",
            "\n"
          ]
        },
        {
          "output_type": "execute_result",
          "data": {
            "text/plain": [
              "<BarContainer object of 5 artists>"
            ]
          },
          "metadata": {},
          "execution_count": 295
        },
        {
          "output_type": "display_data",
          "data": {
            "text/plain": [
              "<Figure size 432x288 with 1 Axes>"
            ],
            "image/png": "[encoded data removed]"
          },
          "metadata": {
            "needs_background": "light"
          }
        }
      ]
    },
    {
      "cell_type": "markdown",
      "source": [
        "**ESTUDIO DE LAS VARIABLES CONTINUAS**\n",
        "\n",
        "Realizaremos un análisis de las variables continuas donde mediremos valores de media, máximo, mínimo , varianza y desviación típica. Podemos destacar de la figura 1.3 como algunas de las variables cuentan con una varianza muy pequeña. Esto puede implicar que contengan poca información a la hora del aprendizaje y podrían ser candidatos a eliminarse. Por otro lado se observa que existen diferentes rangos dentro de los atributos del problema. Por un lado FM recoge valores desde 557 a 0, siendo el valor con un máximo mayor, frente a por ejemplo DP cuyos valores de cero a cuatro. Esto pone de manifiesto la necesidad de una futura normalización de los datos, cuyas ventajas serán comentadas posteriormente.\n"
      ],
      "metadata": {
        "id": "TOHFxZixNYrQ"
      }
    },
    {
      "cell_type": "code",
      "source": [
        "from tabulate import tabulate\n",
        "\n",
        "#Guardamos cuales son los atributos continuos\n",
        "atributosContinuos = np.where(X_train.dtypes != 'object')\n",
        "\n",
        "nombreAtributoCont = []\n",
        "media = []\n",
        "Sx = []\n",
        "maximo = []\n",
        "minimo = []\n",
        "var = []\n",
        "\n",
        "#Calculamos los valores de cada columnas\n",
        "for i in atributosContinuos[0]:\n",
        "  nombreAtributoCont.append(X_train.columns[i])\n",
        "  media.append(X_train[X_train.columns[i]].mean())\n",
        "  maximo.append(X_train[X_train.columns[i]].max())\n",
        "  minimo.append(X_train[X_train.columns[i]].min())\n",
        "  var.append(X_train[X_train.columns[i]].var())\n",
        "  Sx.append(X_train[X_train.columns[i]].std())\n",
        "\n",
        "\n",
        "#________________________TABLA SOBRE VARIABLES CONTINUAS________________________\n",
        "info = {'\\033[1mAtributo\\033[0m': nombreAtributoCont[:], \n",
        "        '\\033[1mMedia\\033[0m': media[:],\n",
        "        '\\033[1mMáximo\\033[0m': maximo[:],\n",
        "        '\\033[1mMínimo\\033[0m': minimo[:],\n",
        "        '\\033[1mVarianza\\033[0m': var[:],\n",
        "        '\\033[1mDesviación estándar\\033[0m': Sx[:]}\n",
        "print(\"\\033[1m\"+'\\nFIG 1.3 % TABLA VALORES DE LOS ATRIBUTOS CONTINUOS\"'+\"\\033[0m\")\n",
        "print(tabulate(info, headers='keys', tablefmt='fancy_grid'))\n",
        "print('\\n')\n"
      ],
      "metadata": {
        "colab": {
          "base_uri": "https://localhost:8080/"
        },
        "id": "lAuqLD4VNUqJ",
        "outputId": "9f2f72b5-e55c-46b8-fed5-4e8954d33e5c"
      },
      "execution_count": null,
      "outputs": [
        {
          "output_type": "stream",
          "name": "stdout",
          "text": [
            "\u001b[1m\n",
            "FIG 1.3 % TABLA VALORES DE LOS ATRIBUTOS CONTINUOS\"\u001b[0m\n",
            "╒════════════╤══════════════╤══════════╤══════════╤═══════════════╤═══════════════════════╕\n",
            "│ \u001b[1mAtributo\u001b[0m   │        \u001b[1mMedia\u001b[0m │   \u001b[1mMáximo\u001b[0m │   \u001b[1mMínimo\u001b[0m │      \u001b[1mVarianza\u001b[0m │   \u001b[1mDesviación estándar\u001b[0m │\n",
            "╞════════════╪══════════════╪══════════╪══════════╪═══════════════╪═══════════════════════╡\n",
            "│ LB         │ 133.162      │    160   │    106   │   97.1108     │             9.85448   │\n",
            "├────────────┼──────────────┼──────────┼──────────┼───────────────┼───────────────────────┤\n",
            "│ AC         │   2.73647    │     26   │      0   │   12.6827     │             3.56128   │\n",
            "├────────────┼──────────────┼──────────┼──────────┼───────────────┼───────────────────────┤\n",
            "│ FM         │   7.30647    │    557   │      0   │ 1370.6        │            37.0216    │\n",
            "├────────────┼──────────────┼──────────┼──────────┼───────────────┼───────────────────────┤\n",
            "│ UC         │   3.64       │     23   │      0   │    8.04572    │             2.8365    │\n",
            "├────────────┼──────────────┼──────────┼──────────┼───────────────┼───────────────────────┤\n",
            "│ ASTV       │  46.7876     │     86   │     12   │  296          │            17.2047    │\n",
            "├────────────┼──────────────┼──────────┼──────────┼───────────────┼───────────────────────┤\n",
            "│ MSTV       │   1.34653    │      7   │      0.2 │    0.830965   │             0.911573  │\n",
            "├────────────┼──────────────┼──────────┼──────────┼───────────────┼───────────────────────┤\n",
            "│ ALTV       │   9.78765    │     91   │      0   │  336.803      │            18.3522    │\n",
            "├────────────┼──────────────┼──────────┼──────────┼───────────────┼───────────────────────┤\n",
            "│ MLTV       │   8.28665    │     50.7 │      0   │   32.5977     │             5.70944   │\n",
            "├────────────┼──────────────┼──────────┼──────────┼───────────────┼───────────────────────┤\n",
            "│ DL         │   1.57529    │     16   │      0   │    6.29156    │             2.5083    │\n",
            "├────────────┼──────────────┼──────────┼──────────┼───────────────┼───────────────────────┤\n",
            "│ DS         │   0.00352941 │      1   │      0   │    0.00351903 │             0.0593214 │\n",
            "├────────────┼──────────────┼──────────┼──────────┼───────────────┼───────────────────────┤\n",
            "│ DP         │   0.121765   │      4   │      0   │    0.208237   │             0.45633   │\n",
            "├────────────┼──────────────┼──────────┼──────────┼───────────────┼───────────────────────┤\n",
            "│ Width      │  70.8076     │    180   │      3   │ 1545.11       │            39.3079    │\n",
            "├────────────┼──────────────┼──────────┼──────────┼───────────────┼───────────────────────┤\n",
            "│ Min        │  93.3635     │    159   │     50   │  884.925      │            29.7477    │\n",
            "├────────────┼──────────────┼──────────┼──────────┼───────────────┼───────────────────────┤\n",
            "│ Max        │ 164.171      │    238   │    122   │  329.569      │            18.154     │\n",
            "├────────────┼──────────────┼──────────┼──────────┼───────────────┼───────────────────────┤\n",
            "│ Nmax       │   4.05588    │     18   │      0   │    8.56015    │             2.92577   │\n",
            "├────────────┼──────────────┼──────────┼──────────┼───────────────┼───────────────────────┤\n",
            "│ Nzeros     │   0.325294   │     10   │      0   │    0.502126   │             0.708609  │\n",
            "├────────────┼──────────────┼──────────┼──────────┼───────────────┼───────────────────────┤\n",
            "│ Mode       │ 137.175      │    186   │     60   │  274.467      │            16.5671    │\n",
            "├────────────┼──────────────┼──────────┼──────────┼───────────────┼───────────────────────┤\n",
            "│ Mean       │ 134.481      │    182   │     73   │  243.945      │            15.6187    │\n",
            "├────────────┼──────────────┼──────────┼──────────┼───────────────┼───────────────────────┤\n",
            "│ Median     │ 137.939      │    186   │     78   │  209.995      │            14.4912    │\n",
            "├────────────┼──────────────┼──────────┼──────────┼───────────────┼───────────────────────┤\n",
            "│ Variance   │  19.0012     │    269   │      0   │  869.416      │            29.4859    │\n",
            "├────────────┼──────────────┼──────────┼──────────┼───────────────┼───────────────────────┤\n",
            "│ Tendency   │   0.309412   │      1   │     -1   │    0.37625    │             0.613393  │\n",
            "├────────────┼──────────────┼──────────┼──────────┼───────────────┼───────────────────────┤\n",
            "│ D          │   0.0382353  │      1   │      0   │    0.036795   │             0.19182   │\n",
            "╘════════════╧══════════════╧══════════╧══════════╧═══════════════╧═══════════════════════╛\n",
            "\n",
            "\n"
          ]
        }
      ]
    },
    {
      "cell_type": "markdown",
      "source": [
        "<font color=red size=5>***2. Codificación de los datos de entrada para hacerlos útiles a los algoritmos.***</font>\n",
        "\n",
        "Debido a que todas las características con las que vamos a trabajar están en formato numérico (con el que ya puede trabajar el algoritmo) no haremos ninguna clase de codificación. Lo que sí haremos es una normalización de los datos, la cuál se explicará en su apartado correspondiente."
      ],
      "metadata": {
        "id": "zV_HQs8hWW-0"
      }
    },
    {
      "cell_type": "markdown",
      "source": [
        "<font color=red size=5>**3. Valoración del interés de la variables medidas para el problema y selección de un subconjunto\n",
        "(en su caso).**\n",
        "\n",
        "Tal y como hemos explicado en el apartado 1, únicamente usaremos las características que son útiles para la clasificación que hemos elegido (NSP) de las dos opciones que teníamos, por tanto **eliminaremos todas las variables que no sean útiles en nuestro estudio**, estas son las referentes a los patrones morfológicos con los que se hace la otra clasificación. También encontramos variables con una correlación fuerte, las cuales pueden unificarse debido a que el comportamiento de una explica el de la otra y por tanto mantener ambas puede tener efectos negativos en nuestros modelo. Por último, hemos encontrado variables cuya varianza es muy baja y esto puede ser indicativo de que contienen poca información para el aprendizaje de nuestro modelo. Aún así no eliminaremos dichas variables debido a que en sus pequeñas variaciones pueden contener información esencial para las distinguir entre las clases más desbalanceadas. Para poder seleccionar un mejor conjunto de variables usaremos PCA, para lo cual previamente deben ser normalizados los datos."
      ],
      "metadata": {
        "id": "kRpb50EWWZ5P"
      }
    },
    {
      "cell_type": "markdown",
      "source": [
        "<font color=red size=5>**4. Necesidad de la normalización de los datos e interés de la técnica usada (en su caso)**</font>\n",
        "\n",
        "**Normalización de variables:** nos permitirá formar funciones de coste más uniformes, donde es más sencillo encontrar mínimos en un menor número de pasos. Para ello usaremos tanto la media de los datos de training como su varianza. También normalizamos los datos de test con dichos valores, si tomamos medidas también sobre este conjunto crearemos sesgo en nuestro modelo el cuál afectará a la medida de error out sample. \n",
        "\n",
        "- La normalización que usaremos será el standart escalable, el cual consiste en:\n",
        " \n",
        "  - **Zero out mean:** Movemos el conjunto de elementos hasta que la media de estos sea cero.\n",
        " \n",
        "      <font color=blue>$$\\mu = \\frac{1}{m} \\sum^{m}_{i=1}{x^i}$$\n",
        "              \n",
        "      $$x = x - \\mu$$</font>\n",
        " \n",
        "  - **Normalize variance:** igualamos las varianzas de las variables siendo estas igual a uno.\n",
        "  <font color=blue>$$\\sigma ^2 = \\frac{1}{m} \\sum^{m}_{i=1}{(x^i)^2}$$\n",
        "\n",
        "      $$ x = \\frac{x}{\\sigma ^2}$$</font>\n",
        " \n",
        "\n",
        "- Su **implementación** en scikit learn:\n",
        " \n",
        "  *class sklearn.preprocessing.StandardScaler(, copy=True, with_mean=True, with_std=True)\n",
        "\n",
        "- **Descripción parámetros**:\n",
        " \n",
        "  - copy : bool, default=True - realiza una copia sobre los datos\n",
        " \n",
        "  - with_mean : bool, default=True - Mueve la media de los datos a cero.\n",
        " \n",
        "  - with_std : bool, default=True - Unifica la varianza.\n",
        " \n",
        "---\n",
        " \n",
        "Referencia: https://www.youtube.com/watch?v=FDCfw-YqWTE"
      ],
      "metadata": {
        "id": "C-SK97PNWj_9"
      }
    },
    {
      "cell_type": "code",
      "source": [
        "from sklearn.preprocessing import StandardScaler\n",
        "\n",
        "#Escalado estándar de variables\n",
        "scaler = StandardScaler()\n",
        "scaler.fit(X_train)\n",
        "X_scaled_train = scaler.transform(X_train)\n",
        "X_scaled_test = scaler.transform(X_test)\n",
        "\n",
        "X_train = pd.DataFrame(X_scaled_train, index=X_train.index, columns=X_train.columns)\n",
        "X_test = pd.DataFrame(X_scaled_test, index=X_test.index, columns=X_test.columns)"
      ],
      "metadata": {
        "id": "OcUnaXoLRRT5"
      },
      "execution_count": null,
      "outputs": []
    },
    {
      "cell_type": "code",
      "source": [
        "#Volvemos a medir los valores\n",
        "media = []\n",
        "Sx = []\n",
        "maximo = []\n",
        "minimo = []\n",
        "var = []\n",
        "indice = []\n",
        "\n",
        "for i in nombreAtributoCont:\n",
        "  media.append(X_train[i].mean())\n",
        "  maximo.append(X_train[i].max())\n",
        "  minimo.append(X_train[i].min())\n",
        "  var.append(X_train[i].var())\n",
        "  Sx.append(X_train[i].std())\n",
        "\n",
        "\n",
        "#________________________TABLA SOBRE VARIABLES CONTINUAS________________________\n",
        "info = {'\\033[1mAtributo\\033[0m': nombreAtributoCont[:], \n",
        "        '\\033[1mMedia\\033[0m': media[:],\n",
        "        '\\033[1mMáximo\\033[0m': maximo[:],\n",
        "        '\\033[1mMínimo\\033[0m': minimo[:],\n",
        "        '\\033[1mVarianza\\033[0m': var[:],\n",
        "        '\\033[1mDesviación estándar\\033[0m': Sx[:]}\n",
        "print(\"\\033[1m\"+'\\nTabla 4.1 VALORES DE LOS ATRIBUTOS NORMALIZADOS'+\"\\033[0m\")\n",
        "print(\"Se observa como la media vale cero y la varianza 1\")\n",
        "print(tabulate(info, headers='keys', tablefmt='fancy_grid'))\n",
        "print('\\n')\n"
      ],
      "metadata": {
        "colab": {
          "base_uri": "https://localhost:8080/"
        },
        "id": "p7IJq-qpRV_z",
        "outputId": "5e7a52fd-5207-4a48-ca15-8c98c220dfbf"
      },
      "execution_count": null,
      "outputs": [
        {
          "output_type": "stream",
          "name": "stdout",
          "text": [
            "\u001b[1m\n",
            "Tabla 4.1 VALORES DE LOS ATRIBUTOS NORMALIZADOS\u001b[0m\n",
            "Se observa como la media vale cero y la varianza 1\n",
            "╒════════════╤══════════════╤══════════╤═══════════╤════════════╤═══════════════════════╕\n",
            "│ \u001b[1mAtributo\u001b[0m   │        \u001b[1mMedia\u001b[0m │   \u001b[1mMáximo\u001b[0m │    \u001b[1mMínimo\u001b[0m │   \u001b[1mVarianza\u001b[0m │   \u001b[1mDesviación estándar\u001b[0m │\n",
            "╞════════════╪══════════════╪══════════╪═══════════╪════════════╪═══════════════════════╡\n",
            "│ LB         │  5.58507e-16 │  2.7242  │ -2.75716  │    1.00059 │               1.00029 │\n",
            "├────────────┼──────────────┼──────────┼───────────┼────────────┼───────────────────────┤\n",
            "│ AC         │  2.82127e-17 │  6.53427 │ -0.768621 │    1.00059 │               1.00029 │\n",
            "├────────────┼──────────────┼──────────┼───────────┼────────────┼───────────────────────┤\n",
            "│ FM         │  1.2539e-17  │ 14.8523  │ -0.197415 │    1.00059 │               1.00029 │\n",
            "├────────────┼──────────────┼──────────┼───────────┼────────────┼───────────────────────┤\n",
            "│ UC         │ -8.35933e-17 │  6.82733 │ -1.28365  │    1.00059 │               1.00029 │\n",
            "├────────────┼──────────────┼──────────┼───────────┼────────────┼───────────────────────┤\n",
            "│ ASTV       │ -7.10543e-17 │  2.27984 │ -2.02259  │    1.00059 │               1.00029 │\n",
            "├────────────┼──────────────┼──────────┼───────────┼────────────┼───────────────────────┤\n",
            "│ MSTV       │ -3.443e-16   │  6.20371 │ -1.25812  │    1.00059 │               1.00029 │\n",
            "├────────────┼──────────────┼──────────┼───────────┼────────────┼───────────────────────┤\n",
            "│ ALTV       │  3.55271e-17 │  4.42651 │ -0.53348  │    1.00059 │               1.00029 │\n",
            "├────────────┼──────────────┼──────────┼───────────┼────────────┼───────────────────────┤\n",
            "│ MLTV       │ -4.17966e-18 │  7.43083 │ -1.45182  │    1.00059 │               1.00029 │\n",
            "├────────────┼──────────────┼──────────┼───────────┼────────────┼───────────────────────┤\n",
            "│ DL         │  6.06051e-17 │  5.75249 │ -0.628218 │    1.00059 │               1.00029 │\n",
            "├────────────┼──────────────┼──────────┼───────────┼────────────┼───────────────────────┤\n",
            "│ DS         │  8.35933e-18 │ 16.8028  │ -0.059514 │    1.00059 │               1.00029 │\n",
            "├────────────┼──────────────┼──────────┼───────────┼────────────┼───────────────────────┤\n",
            "│ DP         │ -8.98628e-17 │  8.50125 │ -0.266913 │    1.00059 │               1.00029 │\n",
            "├────────────┼──────────────┼──────────┼───────────┼────────────┼───────────────────────┤\n",
            "│ Width      │ -1.15986e-16 │  2.77869 │ -1.72554  │    1.00059 │               1.00029 │\n",
            "├────────────┼──────────────┼──────────┼───────────┼────────────┼───────────────────────┤\n",
            "│ Min        │  1.2748e-16  │  2.20709 │ -1.45814  │    1.00059 │               1.00029 │\n",
            "├────────────┼──────────────┼──────────┼───────────┼────────────┼───────────────────────┤\n",
            "│ Max        │  7.54429e-16 │  4.068   │ -2.32365  │    1.00059 │               1.00029 │\n",
            "├────────────┼──────────────┼──────────┼───────────┼────────────┼───────────────────────┤\n",
            "│ Nmax       │  7.94136e-17 │  4.76736 │ -1.38667  │    1.00059 │               1.00029 │\n",
            "├────────────┼──────────────┼──────────┼───────────┼────────────┼───────────────────────┤\n",
            "│ Nzeros     │ -2.82127e-17 │ 13.6571  │ -0.459195 │    1.00059 │               1.00029 │\n",
            "├────────────┼──────────────┼──────────┼───────────┼────────────┼───────────────────────┤\n",
            "│ Mode       │ -6.67179e-16 │  2.94796 │ -4.65973  │    1.00059 │               1.00029 │\n",
            "├────────────┼──────────────┼──────────┼───────────┼────────────┼───────────────────────┤\n",
            "│ Mean       │  7.04273e-16 │  3.04332 │ -3.93753  │    1.00059 │               1.00029 │\n",
            "├────────────┼──────────────┼──────────┼───────────┼────────────┼───────────────────────┤\n",
            "│ Median     │  8.30708e-17 │  3.31755 │ -4.13744  │    1.00059 │               1.00029 │\n",
            "├────────────┼──────────────┼──────────┼───────────┼────────────┼───────────────────────┤\n",
            "│ Variance   │  3.34373e-17 │  8.48109 │ -0.644606 │    1.00059 │               1.00029 │\n",
            "├────────────┼──────────────┼──────────┼───────────┼────────────┼───────────────────────┤\n",
            "│ Tendency   │  2.08983e-17 │  1.12618 │ -2.13533  │    1.00059 │               1.00029 │\n",
            "├────────────┼──────────────┼──────────┼───────────┼────────────┼───────────────────────┤\n",
            "│ D          │  1.46288e-17 │  5.01536 │ -0.199387 │    1.00059 │               1.00029 │\n",
            "╘════════════╧══════════════╧══════════╧═══════════╧════════════╧═══════════════════════╛\n",
            "\n",
            "\n"
          ]
        }
      ]
    },
    {
      "cell_type": "markdown",
      "source": [
        "---\n",
        "**Reducción de variables PCA ( Principal Component Analysis)**:\n",
        "PCA es una técnica utilizada para la reducción de variables especialmente útil cuando existe múltiple colinealidad entre variables ( como en nuestro caso ), las dimensiones de entrada son demasiado grandes, o para realizar compresión en los datos y reducir el ruido.\n",
        "El análisis realizado por PCA es el siguiente:\n",
        "- Los datos de entrada deben son z-scored, de tal forma que cada variable tiene media cero y desviación estándar unitaria ( paso anterior ).\n",
        "- Se realiza la construcción y descomposición de valores propios de la matriz de covarianzas ( al ser la desviación estándar de todas las características 1, la covarianza es igual a la matriz de correlación )\n",
        "- Los valores propios se ordenan en orden decreciente respecto la varianza en los datos\n",
        "- Finalmente se realiza una proyección de los datos en el espacio reducido de PCA obtenido al multiplicar ( dot product ) los datos originales normalizados por los valores propios líderes de la matriz de covarianza.\n",
        "- El espacio nuevo de PCA maximiza la varianza original de los datos.\n",
        "La idea principal por tanto de PCA es la creación de los \"componentes principales\", los cuales son nuevas variables construidas como combinaciones lineales o mezclas de las variables principales. Estas combinaciones están hechas de manera que las nuevas variables están incorrelacionadas y la mayoría de información de las variables iniciales se comprime en estos componentes.\n",
        "\n",
        "**¿Cual es el número máximo de componente relevantes?**\n",
        "\n",
        "Debido al rango de la matriz de covarianzas, podemos obtener con PCA una cota superior de valores significativos. La matriz de covarianzas tendrá la forma nºelementos x nºcaracterísticas, luego el máximo rango será el mínimo entre ambas. Por ende podemos tener como mucho dicho valor de componentes significativas ( esto es poco relevante en nuestro problema, ya que acota el número de componentes significativas al número de variables del problema ).\n",
        "¿Cómo elegimos entonces el número de componentes?\n",
        "No es necesario elegir un número de componentes para la nueva matriz de datos de manera manual, indicamos al modelo que debe mantener una varianza explicada por los componentes generados del 99%, de esta manera nos aseguramos que el modelo siga manteniendo toda la información.\n",
        " \n",
        "---\n",
        " \n",
        "Implementación de PCA:\n",
        " \n",
        "**class sklearn.decomposition.PCA**(n_components=None, *, copy=True, whiten=False, svd_solver='auto', tol=0.0, iterated_power='auto', n_oversamples=10, power_iteration_normalizer='auto', random_state=None)\n",
        " \n",
        "- n_components: int, float or ‘mle’, default=None\n",
        " \n",
        "Al usar un flotante indicamos la cantidad de varianza explicada por los datos a mantener. Con un valor alto como 99% nuestro modelo conserva la información.\n",
        " \n",
        "- copy: bool, default=True\n",
        " \n",
        "No sobreescribe los datos.\n",
        " \n",
        "- whiten : bool, default=False\n",
        " \n",
        "Asegura outputs incorrelados con varianza en las anchuras de los componente unitarias. Puede perder información luego se queda en false.\n",
        " \n",
        "- svd_solver: {‘auto’, ‘full’, ‘arpack’, ‘randomized’}, default=’auto’\n",
        " \n",
        "El valor auto selecciona el mejor solucionador dependiendo de X.shape y el número de componentes.\n",
        " \n",
        "- tol : float, default=0.0\n",
        " \n",
        "Tolerancia a valores singulares. Solo interesante si solver ='arpack'\n",
        " \n",
        "- iterated_power: int or ‘auto’, default=’auto’\n",
        " \n",
        "Iteraciones en el método usado por el solver = 'randomized'\n",
        " \n",
        "- n_oversamples: int, default=10\n",
        " \n",
        "Número adicional de vectores aleatorio usado por el solver = 'randomized'\n",
        " \n",
        "- power_iteration_normalizer: {‘auto’, ‘QR’, ‘LU’, ‘none’}, default=’auto’\n",
        " \n",
        "Normalizador del poder de cada iteración\n",
        " \n",
        "- random_state: int, RandomState instance or None, default=None\n",
        " \n",
        "Semilla en los casos de 'arpack' y 'randomized'\n",
        " \n",
        "---\n",
        "Referencia 1: https://towardsdatascience.com/pca-clearly-explained-how-when-why-to-use-it-and-feature-importance-a-guide-in-python-7c274582c37e\n",
        "\n",
        "Referencia 2: https://www.mikulskibartosz.name/pca-how-to-choose-the-number-of-components/\n",
        " \n",
        " \n",
        "\n",
        "\n",
        "\n"
      ],
      "metadata": {
        "id": "iKmXX2fnSGXx"
      }
    },
    {
      "cell_type": "code",
      "source": [
        "from sklearn.decomposition import PCA\n",
        "\n",
        "print('\\033[1mNúmero de características antes de la transformación: \\033[0m')\n",
        "print(X_train.shape[1])\n",
        "\n",
        "pca = PCA(n_components = 0.99)\n",
        "pca.fit(X_train)\n",
        "X_train = pca.transform(X_train)\n",
        "X_test = pca.transform(X_test)\n",
        "\n",
        "print('\\033[1mNúmero de características después de la transformación: \\033[0m')\n",
        "print(X_train.shape[1])"
      ],
      "metadata": {
        "colab": {
          "base_uri": "https://localhost:8080/"
        },
        "id": "qObDdx07RmOW",
        "outputId": "b8355898-8dd9-40e3-fa3a-55151675a421"
      },
      "execution_count": null,
      "outputs": [
        {
          "output_type": "stream",
          "name": "stdout",
          "text": [
            "\u001b[1mNúmero de características antes de la transformación: \u001b[0m\n",
            "22\n",
            "\u001b[1mNúmero de características después de la transformación: \u001b[0m\n",
            "18\n"
          ]
        }
      ]
    },
    {
      "cell_type": "code",
      "source": [
        "#Gráfica adaptada del enlace\n",
        "\n",
        "print('\\033[1m FIG 4.2:  Eleccion de componentes de PCA \\033[0m ')\n",
        "print('Observamos como con solo 18 características podemos mantener toda la información en nuestro modelo')\n",
        "\n",
        "fig, ax = plt.subplots()\n",
        "xi = np.arange(0, 18, step=1)\n",
        "y = np.cumsum(pca.explained_variance_ratio_)\n",
        "\n",
        "plt.ylim(0.0,1.1)\n",
        "plt.plot(xi, y, marker='o', linestyle='--', color='b')\n",
        "\n",
        "plt.xlabel('Número de Características')\n",
        "plt.xticks(np.arange(0, 20, step=1))\n",
        "plt.ylabel('Porcentaje de varianza acumulada')\n",
        "\n",
        "plt.axhline(y=0.99, color='r', linestyle='-')\n",
        "plt.text(0.5, 0.85, '99% de varianza acumulada', color = 'red', fontsize=16)\n",
        "\n",
        "ax.grid(axis='x')\n",
        "plt.show()"
      ],
      "metadata": {
        "colab": {
          "base_uri": "https://localhost:8080/",
          "height": 315
        },
        "id": "Jf53bJ37SH4J",
        "outputId": "904792ce-9c28-4434-eea7-3ffb2f2a04ba"
      },
      "execution_count": null,
      "outputs": [
        {
          "output_type": "stream",
          "name": "stdout",
          "text": [
            "\u001b[1m FIG 4.2:  Eleccion de componentes de PCA \u001b[0m \n",
            "Observamos como con solo 18 características podemos mantener toda la información en nuestro modelo\n"
          ]
        },
        {
          "output_type": "display_data",
          "data": {
            "text/plain": [
              "<Figure size 432x288 with 1 Axes>"
            ],
            "image/png": "[encoded data removed]"
          },
          "metadata": {
            "needs_background": "light"
          }
        }
      ]
    },
    {
      "cell_type": "code",
      "source": [
        "X_train = pd.DataFrame(X_train)\n",
        "X_test = pd.DataFrame(X_test)"
      ],
      "metadata": {
        "id": "1Dfiy6gwTvkj"
      },
      "execution_count": null,
      "outputs": []
    },
    {
      "cell_type": "code",
      "source": [
        "import seaborn as sns\n",
        "import numpy as np\n",
        "\n",
        "#Calculamos la matriz de correlacion\n",
        "correlation_mat = X_train.corr()\n",
        "valores = ['nula','debil','moderada','fuerte','total']\n",
        "altura = []\n",
        "\n",
        "#Calculamos el porcentaje de cada clase\n",
        "altura.append(100*len(np.where((correlation_mat == 0.0 ))[0])/(X_train.shape[1]*X_train.shape[1]))\n",
        "altura.append((100*len(np.where(((correlation_mat < 0.5) & (correlation_mat > 0.0)) |  ((correlation_mat > -0.5) & (correlation_mat < 0.0)) )[0]))/(X_train.shape[1]*X_train.shape[1]))\n",
        "altura.append((100*len(np.where(((correlation_mat >= 0.5) & (correlation_mat < 0.8)) |  ((correlation_mat <= -0.5) & (correlation_mat >= -0.8)) )[0]))/(X_train.shape[1]*X_train.shape[1]))\n",
        "altura.append((100*len(np.where(((correlation_mat >= 0.8) & (correlation_mat < 1)) |  ((correlation_mat <= -0.8) & (correlation_mat >= -1)) )[0]))/(X_train.shape[1]*X_train.shape[1]))\n",
        "altura.append((100*len(np.where((correlation_mat == 1 ) | (correlation_mat == -1))[0])/(X_train.shape[1]*X_train.shape[1])))"
      ],
      "metadata": {
        "id": "-g9AJ6aITpqI"
      },
      "execution_count": null,
      "outputs": []
    },
    {
      "cell_type": "markdown",
      "source": [
        "**PCA Y REDUCCIÓN DE LA CORRELACIÓN**\n",
        "\n",
        "Observamos en la figura 4 como tras aplicar PCA, hemos logrado que todas la variables tengan una correlación débil, conteniendo cada una de ellas información relevante para el modelo. "
      ],
      "metadata": {
        "id": "lpjBCaAzUrFj"
      }
    },
    {
      "cell_type": "code",
      "source": [
        "print('\\033[1mFIG 4.3: Porcentajes de correlación entre variables según el coeficiente pearson TRAS PCA\\033[0m')\n",
        "print('El porcentaje de atributos con relación total es debido a atributos consigo mismos')\n",
        "print('\\033[1mPorcentaje de correlaciones totales : \\033[0m',altura[4])\n",
        "print('\\033[1mPorcentaje de correlaciones de atributos medidas consigo mismo :\\033[0m',100*(1/X_train.shape[1]))\n",
        "print('\\n')\n",
        "plt.title('FIG 4.3: Porcentajes de correlación entre variables según el coeficiente pearson TRAS PCA')\n",
        "plt.xlabel('Tipo de corelación')\n",
        "plt.ylabel('Porcentaje de atributos')\n",
        "plt.bar(valores,altura)"
      ],
      "metadata": {
        "colab": {
          "base_uri": "https://localhost:8080/",
          "height": 425
        },
        "id": "9yvtaue-TqYZ",
        "outputId": "ae35b575-1015-41a7-b609-1748aa829471"
      },
      "execution_count": null,
      "outputs": [
        {
          "output_type": "stream",
          "name": "stdout",
          "text": [
            "\u001b[1mFIG 4.3: Porcentajes de correlación entre variables según el coeficiente pearson TRAS PCA\u001b[0m\n",
            "El porcentaje de atributos con relación total es debido a atributos consigo mismos\n",
            "\u001b[1mPorcentaje de correlaciones totales : \u001b[0m 5.555555555555555\n",
            "\u001b[1mPorcentaje de correlaciones de atributos medidas consigo mismo :\u001b[0m 5.555555555555555\n",
            "\n",
            "\n"
          ]
        },
        {
          "output_type": "execute_result",
          "data": {
            "text/plain": [
              "<BarContainer object of 5 artists>"
            ]
          },
          "metadata": {},
          "execution_count": 303
        },
        {
          "output_type": "display_data",
          "data": {
            "text/plain": [
              "<Figure size 432x288 with 1 Axes>"
            ],
            "image/png": "[encoded data removed]"
          },
          "metadata": {
            "needs_background": "light"
          }
        }
      ]
    },
    {
      "cell_type": "markdown",
      "source": [
        "<font color=red size=5>5/6. Interés y justificación de la función/es de pérdida usada / Argumentos a favor de la idoneidad de los modelos seleccionados para la BBDD.</font>\n",
        "\n",
        "**MODELOS CONSIDERADOS**\n",
        "\n",
        "**Modelos Lineales** \n",
        "\n",
        "- El problema consiste en una clasificación de tres clases, por tanto, conjuntos de hipótesis\n",
        "como perceptrón o regresión no parecen interesantes para este problema. Además\n",
        "debemos considerar que el dataset contiene pocos ejemplos y que modelos como el\n",
        "perceptrón multicapa pueden ser penalizados. \n",
        "\n",
        "- Por tanto los modelos escogidos para el\n",
        "problema son:\n",
        "\n",
        "    - **Regresión logística ( modelo lineal )**: este modelo es fácilmente extendible para\n",
        "problemas con múltiples clases, por ejemplo mediante el uso de one-vs-rest\n",
        "transformando el problema en un problema múltiple de clasificación binaria. \n",
        "      \n",
        "      - La función de pérdida por tanto será la entropía cruzada y cambiaremos la función de\n",
        "probabilidad predecida por un función de distribución de probabilidad multinomial.\n",
        "Aporta una medida de cómo de indicado es un predictor para cada una de las clases\n",
        "y obtiene una buena predicción en conjuntos de datos sencillos especialmente\n",
        "cuando son linealmente separables.\n",
        "\n",
        "**Modelos No Lineales**:\n",
        "\n",
        "  - Dado que sólo podíamos elegir entre Perceptrón Multicapa, Random Forest y SVM argumentaremos el por qué de que hayamos elegido SVM y Random Forest sobre Perceptrón Multicapa.\n",
        "\n",
        "\n",
        "  - SVM vs Perceptrón Multicapa: para compararlos debemos entender SVM como un problema de regularización. En este contexto, el análisis comparativo se centra en la función de perdida usada por cada uno de ellos, ya que el término de regularización es común a todos ellos, este es minimizar la norma del vector de pesos.\n",
        "\n",
        "      - Caso Separable: En este caso SVM alcanza la solución óptima en términos de menor dimensión VC, ya que su función de pérdidas busca el hiperplano solución con máxima anchura entre clases. La función de Perceptrón Multicapa solo busca una solución separable.\n",
        "\n",
        "      - Caso No Separable: SVM nos permite a través de la constante C del término de penalización de errores elegir un compromiso entre error y generalización. Para cada valor de C la solución de SVM es óptima ya que maximiza la separabilidad entre clases, por el contrario Perceptrón Multicapca no dispone de dichos mecanismos de compromiso y por tanto sus soluciones  no tienen garantías de optimalidad o de encontrar una solución aceptable.\n",
        "\n",
        "  - Random Forest vs Perceptrón Multicapa: el por qué de la elección de Random Forest sobre Perceptrón Multicapa es que Random Forest nos permite obtener un compromiso sesgo-varianza a diferencia de Perceptron Multicapa que tiende a tener un alto overfit (cosa contra la que puede luchar Random Forest gracias a la poda de nodos) y por tanto una mala generalización, necesitaríamos de una gran cantidad de datos para hacer Perceptrón Multicapa una opción factible, y en vista de que tenemos aproximadamente 2000 datos no parece una cantidad aceptable."
      ],
      "metadata": {
        "id": "Y7tMlqyFWm_e"
      }
    },
    {
      "cell_type": "markdown",
      "source": [
        "<font color=red size=5>7. Argumentar sobre la idoneidad de la regularización usada (en su caso)</font>\n",
        "\n",
        "- Al entrenar los pesos sobre un determinado conjunto de entrenamiento, es posible que nos\n",
        "adheramos tanto a la muestra que se produzca sobre entrenamiento en las solución. Dicho\n",
        "sobre entrenamiento se produce mediante un crecimiento de los pesos, lo cual es posible\n",
        "combatir mediante la regularización. Mediante esta técnica, podemos utilizar una clase de\n",
        "funciones grande, y mediante la limitación sobre los pesos tratar de impedir que el modelo\n",
        "saque aprendizaje del ruido estocástico, o que el modelo se centre excesivamente en el\n",
        "ajuste de los datos y como resultado la hipótesis final tenga una complejidad mayor a los\n",
        "propios datos, haciendo que el ruido determinístico aumente.\n",
        "\n",
        "- Existen diversas técnicas para regularizar, todas ellas basadas en añadir restricciones sobre\n",
        "los pesos en nuestro problema de aprendizaje ( usualmente una función positiva de los\n",
        "pesos debe ser acotada por un valor C, aunque pueden ser restricciones más duras como\n",
        "obligar a un cierto número de pesos a ser nulos ). Conocer qué regularización es mejor para\n",
        "un determinado problema no es algo sencillo, pero en líneas generales la regularización ,\n",
        "siempre que no se le de un peso excesivo, suele mejorar los resultados de nuestros\n",
        "modelos.\n",
        "\n",
        "- Nos centraremos en las regularizaciones más típicas, que son aquellas que vienen\n",
        "implementadas en scikit learn: **l1 y l2**. El efecto de ambas regularizaciones , en esencia, es\n",
        "similar. La diferencia entre ambas es debido a su forma de actuar por como están definidas.\n",
        "\n",
        "  - Por un lado **L1** hace tender a los coeficientes hacia valores cercanos a cero, debido a que\n",
        "acota la sumatoria de valores absolutos de los pesos:\n",
        "<font color=blue>$$\\sum_{q=0}^Q |w_q| \\leq C$$</font>\n",
        "\n",
        "  - **L2** por el otro , tiende a reducir los coeficientes de manera uniforme, ya que utiliza la suma\n",
        "de los valores cuadrados:\n",
        "<font color=blue>$$\\sum_{q=0}^Q w_q^2 \\leq C$$</font>\n",
        "\n",
        "  - Podemos considerar por tanto, que normalmente **L1 es útil para la selección de variables**,\n",
        "ya que permite acercarlas más a cero, mientras que **L2 es útil cuando existen\n",
        "características codependientes**. En el análisis de datos no se han encontrado\n",
        "codependencias, por tanto la regularización escogida será L1.\n",
        "\n",
        "- Una vez establecido el tipo de regularización, debemos establecer qué peso se da a dicha\n",
        "regularización. Según hemos explicado, cuanto mayor sea C, más libertad tendrá el modelo\n",
        "para hacer crecer los pesos y por tanto menor valor de regularización tendrá. La elección de\n",
        "C, de forma similar a como pasaba con el learning rate, no es una tarea sencilla ni existe un\n",
        "valor teórico. En la práctica, suelen tomar distintos valores de C y medir los diferentes el\n",
        "rendimiento de los diferentes modelos con dichos valores mediante cross-validation.\n",
        "\n",
        "- Por tanto la mejor opción parece utilizar un GridSearch, el cual es un estimador de\n",
        "parámetros de scikit-learn, que realizará un cross-validation con distintos parámetros para\n",
        "estimar los mejores de ellos.\n",
        "\n"
      ],
      "metadata": {
        "id": "uu-unMfFWsXC"
      }
    },
    {
      "cell_type": "markdown",
      "source": [
        "<font color=red size=5>8. Algoritmo de aprendizaje usado en cada modelo, especificando y justificando los valores de\n",
        "todos los parámetros e hiperparámetros usados.</font>\n",
        "\n",
        "- **Regresion Logística:**\n",
        "\n",
        "  - class sklearn.linear_model.LogisticRegression(penalty='l2', *, dual=False, tol=0.0001,\n",
        "C=1.0, fit_intercept=True, intercept_scaling=1, class_weight=None, random_state=None,\n",
        "solver='lbfgs', max_iter=100, multi_class='auto', verbose=0, warm_start=False,\n",
        "n_jobs=None, l1_ratio=None):\n",
        "\n",
        "  - **Descripción y justificación de parámetros:**\n",
        "    \n",
        "    - penalty: {‘l1’, ‘l2’, ‘elasticnet’, ‘none’}, default=’l2’ - Tipo de regularización escogida, se utilizará l1 como se comentó al utilizar la\n",
        "regularización.\n",
        "\n",
        "    - dual: bool, default=False - Permite la formulación dual en el caso de que utilicemos la regularización l2. Lo\n",
        "dejamos a false, ya que aunque el problema dual puede ser más fácil de solucionar,\n",
        "da problemas con el cálculo de hiperparámetros en gridSearch.\n",
        "\n",
        "    - tol: float, default=1e-4 - Tolerancia del criterio de parada. Se tomará el valor por defecto.\n",
        "\n",
        "    - C: float, default=1.0 - Inversa de la fuerza a aplicar sobre la regularización. Cuanto menor valor tomemos, tendremos una regularización más fuerte. Se calcula mediante GrindSearch.\n",
        "\n",
        "    - fit_interceptbool, default=True - Si se debe añadir un sesgo a la función de decisión. Sabemos que en ocasiones podemos aumentar ligeramente el sesgo y disminuir significativamente la varianza.\n",
        "\n",
        "    - intercept_scaling: float, default=1 - Para modificar el sesgo, añade una característica sintética al resto de instancias,\n",
        "aunque su efecto puede verse decrementado durante la regularización.\n",
        "\n",
        "    - class_weight: dict or ‘balanced’, default=None - Usaremos pesos balanceados como se comentó en el apartado de modelos y\n",
        "funciones de pérdida.\n",
        "\n",
        "    - solver: {‘newton-cg’, ‘lbfgs’, ‘liblinear’, ‘sag’, ‘saga’}, default=’lbfgs’ - Usaremos lib-linear ya que se presenta una buena elección solo que un poco más lenta que sus competidores. Además permite regularización tanto l1 como l2.\n",
        "\n",
        "    - max_iter: int, default=100 - Máximo número de iteraciones posibles hasta converger: En principio 100 iteraciones parece un número bajo respecto a las implementaciones realizadas en\n",
        "prácticas anteriores. Es preferible tener un número grande de iteraciones y dejar que\n",
        "el algoritmo pare mediante el criterio de parada prematura.\n",
        "\n",
        "    - multi_class {‘auto’, ‘ovr’, ‘multinomial’}, default=’auto’ - Para usar liblinear se necesita de ovr.\n",
        "\n",
        "    - verbose: int, default=0 - Expresividad de los algoritmos de resolución. No nos interesa demasiado, la podemos dejar a cero.\n",
        "\n",
        "    - warm_start: bool, default=False - Inicializa mediante los resultados finales de llamadas anteriores a la función.\n",
        "\n",
        "    - n_jobs: int, default=None - Para llevar a cabo una paralelización sobre las clases.\n",
        "\n",
        "    - l1_ratio: float, default=None - Solo usaremos regularización l1 y por tanto este parámetro no es relevante.\n",
        "\n",
        "--------------------------------\n",
        "- **Support Vector Machine (SVC):**\n",
        "\n",
        "  - class sklearn.svm.SVC(*, C=1.0, kernel='rbf', degree=3, gamma='scale', coef0=0.0, shrinking=True, probability=False, tol=0.001, cache_size=200, class_weight=None, verbose=False, max_iter=- 1, decision_function_shape='ovr', break_ties=False, random_state=None)\n",
        "\n",
        "  - **Descripción y justificación de parámetros**:\n",
        "\n",
        "    - C float, default=1.0 - Inversa de la fuerza a aplicar sobre la regularización. Cuanto menor valor tomemos,\n",
        "tendremos una regularización más fuerte. Se calcula mediante GrindSearch.\n",
        "      \n",
        "    - kernel {‘linear’, ‘poly’, ‘rbf’, ‘sigmoid’, ‘precomputed’} or callable, default=’rbf’ - Especifica el kernel a utilizar. Esta es una función que permite calcular directamente el\n",
        "producto escalar de los elementos transformados de la matriz en el problema de\n",
        "optimización resuelto, sin tener que aplicar la transformación sobre los datos. Probaremos\n",
        "transformaciones polinómicas sobre los datos y por tanto usaremos el kernel polinomial\n",
        "‘poly’.\n",
        "\n",
        "    - degree int, default=3 - Para el kernel poly, indica el grado del polinomio en la transformación. Cuanto mayor sea el\n",
        "valor del polinomio mayor capacidad tendrá nuestro modelo de ajustar los datos, pero\n",
        "polinomios de grado alto pueden provocar un gran sobreajuste en los datos. Por tanto\n",
        "probaremos dicho kernel con polinomios de hasta grado 3, usando el valor por defecto.\n",
        "\n",
        "    - gamma{‘scale’, ‘auto’} or float, default=’scale’ - Coeficiente del kernel.\n",
        "Usaremos el valor por defecto scale, ya que usa la varianza de los datos siguiendo la\n",
        "fórmula : 1 / (n_features * X.var())\n",
        "\n",
        "   - coef0 float, default=0.0 - Término independiente que se añade al polinomio. Usaremos el valor por defecto (nulo) ya\n",
        "que no tenemos garantías de que algún valor de coeficiente pueda funcionar mejor.\n",
        "\n",
        "    - shrinking bool, default=True - La heurística shrinking, permite acortar el tiempo de entrenamiento cuando el número de\n",
        "iteraciones es grande. Como no buscamos rendimiento en el ajuste del modelo, lo\n",
        "estableceremos a False ya que puede empeorar los resultados.\n",
        "\n",
        "    - probability bool, default=False - Uso de estimaciones probabilísticas. No tenemos garantía de que pueda ser interesante de\n",
        "cara a nuestro problema, por tanto se mantendrá a false.\n",
        "\n",
        "    - tol float, default=1e-3 - Tolerancia de cara al criterio de parada. Mantenemos el valor por defecto.\n",
        "\n",
        "    - cache_size float, default=200 - No afecta al rendimiento, por lo que se mantiene el valor por defecto.\n",
        "\n",
        "    - class_weight dict or ‘balanced’, default=None - Se usará a balanced como se especificó anteriormente en el apartado de modelos y\n",
        "funciones de pérdida.\n",
        "\n",
        "    - verbose bool, default=False - Expresividad de la salida. No afecta al rendimiento.\n",
        "\n",
        "    - max_iter: int, default=-1 - Se mantiene a -1 ya que no existen restricciones de rendimiento, y con este valor se permite\n",
        "al algoritmo converger hasta que encuentre una solución deseada.\n",
        "\n",
        "    - decision_function_shape{‘ovo’, ‘ovr’}, default=’ovr’ - Usaremos One-vs-Rest ya que divide el problema de clasificación multiclase en un\n",
        "problema de clasificación binaria por clase, mientras que One-vs-One utiliza un problema de\n",
        "clasificación binaria por cada pareja de clases.\n",
        "\n",
        "    - break_ties bool, default=False - Mantenemos a false ya que reduce el coste computacional debido a que de esta manera\n",
        "maneja los empates dando un ganador a una de las clases por defecto.\n",
        "\n",
        "    - random_state int, RandomState instance or None, default=None - Controla el número aleatorio en la generación de mezclas, división de batch\n",
        "\n",
        "-------------------------------------------------------\n",
        "\n",
        "- **Random Forest:**\n",
        "  - class sklearn.ensemble.RandomForestClassifier(n_estimators=100, *, criterion='gini', max_depth=None, min_samples_split=2, min_samples_leaf=1, min_weight_fraction_leaf=0.0, max_features='sqrt', max_leaf_nodes=None, min_impurity_decrease=0.0, bootstrap=True, oob_score=False, n_jobs=None, random_state=None, verbose=0, warm_start=False, class_weight=None, ccp_alpha=0.0, max_samples=None)\n",
        "\n",
        "  - **Descripción y justificación de los parámetros:** Según las indicaciones del profesor, salvo el número de árboles, los demás parámetros usaremos los valores por defecto que se dan en teoría.\n",
        "  \n",
        "    - n_estimators int, default=100 - Representa el número de arboles que generará el algoritmo. Experimentaremos para encontrar el valor correcto.\n",
        "\n",
        "    - criterion{“gini”, “entropy”, “log_loss”}, default=”gini” - determina la función que mide la calidad de la partición. Existen los criterios “gini”, “log_loss” y “entropy”. Este parámetro es específico de los árboles. Usaremos el valor por defecto.\n",
        "\n",
        "    - max_depth int, default=None - Profundidad máxima del arbol. Si se deja a None los nodos son expandidos hasta que todas las hojas sean puras o hasta que contenga menos de min_samples_split muestras. lo dejaremos por defecto\n",
        "\n",
        "    - min_samples_split int or float, default=2 - Número mínimo de muestras requerido para particionar un nodo interno.\n",
        "      - Si vale int, entonces se considera min_samples_split como el mínimo número\n",
        "      - Si vale float, entonces min_samples_split es una fracción y ceil(min_samples_split * n_samples)  es el mínimo número de muestras para cada partición.\n",
        "      - Usaremos el valor por defecto.\n",
        "\n",
        "    - min_samples_leafint or float, default=1 - Número mínimo de muestras requeridas para ser un nodo hoja. Cuanto mayor sea este valor obtendremos una mayor generalización, y por el contrario, cuanto menor sea este valor mayor  será el sobreajuste pero encontrará mayores dificutades de dividir la muestra. Lo dejaremos por defecto\n",
        "\n",
        "    - min_weight_fraction_leaffloat, default=0.0 - Fracción de peso mínimo  de la suma total de pesos (de todas las muestras de entrada) requerido en un nodo hoja. Lo dejaremos por defecto. \n",
        "\n",
        "    - max_features{“sqrt”, “log2”, None}, int or float, default=”sqrt” - Número de características a cosiderar a la hora de buscar la mejor partición. Utilizaremos el valor por defecto, “sqrt” que es el que se usa en general.\n",
        "\n",
        "    - max_leaf_nodesint, default=None - Número máximo de nodos hoja.\n",
        "\n",
        "    - min_impurity_decreasefloat, default=0.0 - Un nodo sera partido si esa partición induce a un decrecimiento de la impureza mayor o igual que este valor.\n",
        "Usaremos el valor por defecto.\n",
        "\n",
        "    - bootstrap bool, default=True - Decide si se permite ajustar árboles a partir de muestras ya muestreadas. Dejaremos el valor por defecto.\n",
        "\n",
        "    - oob_scorebool, default=False - Determina si se usarán las muestras que aún no se han muestreado para estimar la puntuación de generalización. Usaremos el valor por defecto.\n",
        "\n",
        "    - n_jobsint, default=None - Ya que este parámetro afecta a rendimiento es irrelevante.\n",
        "\n",
        "    - random_state int, RandomState instance or None, default=None - Controla tanto la aleatoriedad a la hora de bootstrapping las muestras cuando construimos árboles de decisión, como para la elección de las características a cosiderar cuando buscamos la mejor partición para cada nodo.\n",
        "\n",
        "    - verbose int, default=0 - Controla la expresividad del algoritmo. Lo dejamos a 0 pues es irrelevante.\n",
        "\n",
        "    - warm_start bool, default=False - Reusa la solución de la llamada previa para ajustar y añadir más estimadores. Si está a falso ajusta un completamente nuevo bosque.\n",
        "\n",
        "    - class_weight{“balanced”, “balanced_subsample”}, dict or list of dicts, default=None - Ajuste de los pesos a cada clase. Se usará a balanced como se especificó anteriormente en el apartado de modelos y\n",
        "funciones de pérdida.\n",
        "\n",
        "    - ccp_alpha non-negative float, default=0.0 - Configura el valor mínimo de complejidad que determina cuando se realiza una poda de hojas, cuanto mayor sea el valor mayor será el número de nodos podados. Lo dejaremos por defecto.\n",
        "\n",
        "    - max_samples int or float, default=None - Número máximo de muestras. Lo dejaremos por defecto.\n"
      ],
      "metadata": {
        "id": "z8UgmKFeWwL2"
      }
    },
    {
      "cell_type": "markdown",
      "source": [
        "---\n",
        "\n",
        "<font color=red size=5>9. Selección de la mejor hipótesis. Justifique la técnica usada y calcule el error Eout de dicha\n",
        "hipótesis.</font>\n",
        " \n",
        "Una vez establecidos los hiperparámetros, deberemos de escoger un modelo.\n",
        " \n",
        "Según lo acordado, utilizaremos un error de validación medio para la elección del modelo. Para ello lo que haremos será medir los errores de validación mediante 5-cross-validation y realizar una media.\n",
        " \n",
        "$$ E_{cv} = \\frac{1}{5} \\sum_{i=1}^5 E_{val}(g_i^-)$$\n",
        " \n",
        "Al escoger la hipótesis con mejor error de cross-validation, dicho error no podrá considerarse insesgado, pues los hemos utilizado para elegir el modelo ( será un error optimista ). Por tanto una vez tomada la validación para escoger un modelo, entrenaremos con todos los datos de training, y mediremos el error fuera de la muestra a partir del conjunto de test separado previamente, siendo este un error menos.\n",
        " \n",
        " \n",
        "---\n",
        " \n",
        "**class sklearn.model_selection.GridSearchCV**(estimator, param_grid, *, scoring=None, n_jobs=None, refit=True, cv=None, verbose=0, pre_dispatch='2*n_jobs', error_score=nan, return_train_score=False)\n",
        " \n",
        "- estimator: estimator object\n",
        " \n",
        "estimador para el cual se ajustan los hiperparámetros\n",
        " \n",
        "- param_grid: dict or list of dictionaries\n",
        " \n",
        "Parámetros a probar por GridSearch.\n",
        " \n",
        "- scoring: str, callable, list, tuple or dict, default=None\n",
        " \n",
        "Estrategia para medir el rendimiento de los diferentes cross-validation. Lo mantendremos a no, y usaremos la función de pérdida de cada modelo.\n",
        " \n",
        "- n_jobs: int, default=None\n",
        " \n",
        "No afecta a los resultados del modelo\n",
        " \n",
        "- refit: bool, str, or callable, default=True\n",
        " \n",
        "Lo mantendremos a true para que reajuste el estimador con los mejores hiperparámetros encontrados hasta el momento.\n",
        " \n",
        "- cv: int, cross-validation generator or an iterable, default=None\n",
        " \n",
        "Estrategia de cross-validation a utilizar. Si lo mantenemos a none se utilizará un 5-cross-validation, lo cual es suficiente en nuestro caso para estimar el mejor de los modelos.\n",
        " \n",
        "- verbose: int\n",
        " \n",
        "No afecta a los resultados de la función. Información devuelta por la función.\n",
        " \n",
        "- pre_dispatch: int, or str, default=’2*n_jobs’\n",
        " \n",
        "Controla el número de trabajos que enviados durante la ejecución en paralelo. No afecta al rendimiento.\n",
        " \n",
        "- error_score: ‘raise’ or numeric, default=np.nan\n",
        " \n",
        "Valor que se asigna al score en el caso de que ocurra un error, por ejemplo, que dos parámetros no sean compatibles.\n",
        " \n",
        "- return_train_score: bool, default=False\n",
        " \n",
        "Devuelve en los scores el valor de training, aunque el que nos interesa es el error de cross-validation.\n",
        " \n",
        "---\n",
        " \n",
        "Compararemos nuestros modelos mediante el uso de cross-validation, donde mediremos una vez escogemos los mejores hiperparámetros de cada modelo, el mejor rendimiento de cada uno de ellos según las diferentes métricas de error.\n",
        " \n"
      ],
      "metadata": {
        "id": "7Uu51pa1b2kB"
      }
    },
    {
      "cell_type": "markdown",
      "source": [
        "\n",
        "**MÉTRICAS DE ERROR**\n",
        "\n",
        "El desbalance de clases supone un problema a la hora de medir el buen funcionamiento de un modelo. Por ejemplo, si nos fijamos en el accuracy en un modelo que nos diga la clase más frecuente ( no podemos considerar que dicho modelo haya realizado un aprendizaje ) podemos obtener porcentajes altos , en nuestro caso cercanos al 80%. Según la naturaleza del proyecto podemos estipular cuál es la prioridad de cada uno de los objetivos a alcanzar. En este caso el coste de un fallo puede tener consecuencias más o menos significativas dependiendo de este. De esta forma establecemos los siguientes objetivos:\n",
        "\n",
        "1. Detectar los fetos que contienen patologías: debido al riesgo que pueden presentar estas para el feto, es lo más importante a detectar para que estas puedan ser tratadas a tiempo de cara a la salud del mismo.\n",
        "\n",
        "2. Detectar los fetos sospechosos: si algún feto puede ser sospechoso de enfermedad, es interesante detectar esto a tiempo para la realización de más pruebas en un futuro que puedan detectar posibles problemas en el mismo.\n",
        "\n",
        "  - Para ellos mediremos la **sensitivity:** porcentaje de elementos con etiqueta \"si\" que fueron bien clasificados. Implementada en scikit-learn como recall.\n",
        "$$ \\frac{TruePositive}{True Positive + FalseNegative } $$\n",
        " \n",
        "3. También será interesante un buen porcentaje de accuracy en el modelo. Aunque puede considerarse un objetivo secundario, también es importante que por ejemplo a un feto normal o sospechoso no se le detecte directamente como una patología, ya que aunque no tiene consecuencias tan negativas como el caso contrario, no es deseable que nuestro modelo cometa este tipo de errores. Puede ser usado como criterio de desempate. Para ello podemos usar\n",
        " \n",
        "  - **Accuracy:** porcentaje de elementos bien clasificados. \n",
        " \n",
        "$$ \\frac{TrueNegative + TrueNegative}{ TrueNegative + TruePositive + FalseNegative + FalsePositive} $$\n",
        "\n",
        "  - **balanced accuracy**: realiza una estimación del recall medio en cada clase\n",
        " \n",
        "\n",
        "\n"
      ],
      "metadata": {
        "id": "UkUP20yan_Ml"
      }
    },
    {
      "cell_type": "code",
      "source": [
        "'''\n",
        "from sklearn.ensemble import IsolationForest\n",
        "\n",
        "iso = IsolationForest(contamination=0.01)\n",
        "yhat = iso.fit_predict(X_train)\n",
        "\n",
        "#valores con los que nos quedamos\n",
        "mask = yhat != -1\n",
        "print(mask)\n",
        "print(\"\\033[1mTamaño del dataset antes de eliminar outliers\\033[0m\")\n",
        "print(X_train.shape)\n",
        "#X_train = X_train.drop(df.index(mask),axis=0)\n",
        "X_train, y_train = X_train.loc[mask, :], y_train.loc[mask]\n",
        "#y_train = y_train.drop(mask[0][:],axis=0)\n",
        "print(\"\\033[1mTamaño del dataset depués de eliminar outliers\\033[0m\")\n",
        "print(X_train.shape)\n",
        "'''"
      ],
      "metadata": {
        "id": "Ji7Uf9w01Gw5",
        "colab": {
          "base_uri": "https://localhost:8080/",
          "height": 73
        },
        "outputId": "ab205198-5387-4036-b123-2e814171175a"
      },
      "execution_count": null,
      "outputs": [
        {
          "output_type": "execute_result",
          "data": {
            "text/plain": [
              "'\\nfrom sklearn.ensemble import IsolationForest\\n\\niso = IsolationForest(contamination=0.01)\\nyhat = iso.fit_predict(X_train)\\n\\n#valores con los que nos quedamos\\nmask = yhat != -1\\nprint(mask)\\nprint(\"\\x1b[1mTamaño del dataset antes de eliminar outliers\\x1b[0m\")\\nprint(X_train.shape)\\n#X_train = X_train.drop(df.index(mask),axis=0)\\nX_train, y_train = X_train.loc[mask, :], y_train.loc[mask]\\n#y_train = y_train.drop(mask[0][:],axis=0)\\nprint(\"\\x1b[1mTamaño del dataset depués de eliminar outliers\\x1b[0m\")\\nprint(X_train.shape)\\n'"
            ],
            "application/vnd.google.colaboratory.intrinsic+json": {
              "type": "string"
            }
          },
          "metadata": {},
          "execution_count": 304
        }
      ]
    },
    {
      "cell_type": "code",
      "source": [
        "X_train = X_train.to_numpy()\n",
        "y_train = y_train.to_numpy()\n"
      ],
      "metadata": {
        "id": "VFQnt7_165wj"
      },
      "execution_count": null,
      "outputs": []
    },
    {
      "cell_type": "code",
      "source": [
        "#Funcion que mide la media en los valores de una lista\n",
        "#https://www.geeksforgeeks.org/find-average-list-python/\n",
        "def average(lst):\n",
        "    return sum(lst) / len(lst)"
      ],
      "metadata": {
        "id": "ciYoioR8XNcj"
      },
      "execution_count": null,
      "outputs": []
    },
    {
      "cell_type": "code",
      "source": [
        "from sklearn.linear_model import LogisticRegression\n",
        "from sklearn.model_selection import cross_validate\n",
        "from sklearn.model_selection import GridSearchCV\n",
        "from sklearn.model_selection import StratifiedKFold\n",
        "from sklearn.metrics import recall_score\n",
        "import warnings\n",
        "warnings.filterwarnings(\"ignore\")\n",
        "\n",
        "\n",
        "\n",
        "cross_balanced = LogisticRegression(random_state=0,max_iter=40000,class_weight='balanced',penalty='l1',solver='liblinear')\n",
        " \n",
        "parameters = {\n",
        "   'C':[0.1,0.4,0.6,0.75,0.8,0.9,0.95,1,1.2,1.4,1.7,2]\n",
        "}\n",
        "#Calculamos el estimador según el mejor de los hiperparámetros\n",
        "clf = GridSearchCV(cross_balanced, parameters,refit='recall')\n",
        "clf.fit(X_train,y_train)\n",
        "\n",
        "print(\"\\033[1m HIPERPARÁMETROS ESCOGIDOS RIDGE\\033[0m \\n\")\n",
        "print(clf.best_params_)\n",
        "\n",
        "\n",
        "\n"
      ],
      "metadata": {
        "id": "D7S9W6aY4Yyp",
        "colab": {
          "base_uri": "https://localhost:8080/"
        },
        "outputId": "eb73fdbd-e052-48f4-b641-69ae97271cd2"
      },
      "execution_count": null,
      "outputs": [
        {
          "output_type": "stream",
          "name": "stdout",
          "text": [
            "\u001b[1m HIPERPARÁMETROS ESCOGIDOS RIDGE\u001b[0m \n",
            "\n",
            "{'C': 0.4}\n"
          ]
        }
      ]
    },
    {
      "cell_type": "code",
      "source": [
        "from sklearn.metrics import balanced_accuracy_score\n",
        "from sklearn.metrics import recall_score\n",
        "from sklearn.metrics import accuracy_score\n",
        "parametros1 = clf.cv_results_\n",
        "scoring=['recall','balanced_accuracy','precision','accuracy','f1']\n",
        "\n",
        "skf = StratifiedKFold(n_splits=5, shuffle=True, random_state=1)\n",
        "\n",
        "LR_accu = []\n",
        "LR_balanced = []\n",
        "LR_recall_suspect = []\n",
        "LR_recall_pathologic = []\n",
        "  \n",
        "for train_index, test_index in skf.split(X_train, y_train):\n",
        "    x_train_fold, x_test_fold = X_train[train_index],  X_train[test_index]\n",
        "    y_train_fold, y_test_fold =  y_train[train_index],  y_train[test_index]\n",
        "    clf.fit(x_train_fold, y_train_fold)\n",
        "    y_pred = clf.predict(x_test_fold)\n",
        "    LR_balanced.append(balanced_accuracy_score(y_test_fold, y_pred))\n",
        "    LR_recall_suspect.append(recall_score(y_test_fold, y_pred,labels=[2.0], average='micro'))\n",
        "    LR_recall_pathologic.append(recall_score(y_test_fold, y_pred,labels=[3.0], average='micro'))\n",
        "    LR_accu.append(accuracy_score(y_test_fold, y_pred))\n",
        "    \n",
        "   "
      ],
      "metadata": {
        "id": "fBa6kD20_aVo"
      },
      "execution_count": null,
      "outputs": []
    },
    {
      "cell_type": "code",
      "source": [
        "print(\"\\033[1m--REGRESIÓN LOGISTICA--\\033[0m\")\n",
        "\n",
        "print(\"\\033[1mBALANCED ACCURACY\\033[0m\")\n",
        "print( average(LR_balanced) )\n",
        "print(\"\\033[1mSUSPECT RECALL\\033[0m\")\n",
        "print( average(LR_recall_suspect) )\n",
        "print(\"\\033[1mPATHOLOGIC RECALL\\033[0m\")\n",
        "print( average(LR_recall_pathologic))\n",
        "print(\"\\033[1mACCURACY\\033[0m\")\n",
        "print( average(LR_accu))\n"
      ],
      "metadata": {
        "id": "Sy4u9ZWv5Ol2",
        "colab": {
          "base_uri": "https://localhost:8080/"
        },
        "outputId": "49031a53-ab36-4012-b494-6112bbe8540f"
      },
      "execution_count": null,
      "outputs": [
        {
          "output_type": "stream",
          "name": "stdout",
          "text": [
            "\u001b[1m--REGRESIÓN LOGISTICA--\u001b[0m\n",
            "\u001b[1mBALANCED ACCURACY\u001b[0m\n",
            "0.8144256003705193\n",
            "\u001b[1mSUSPECT RECALL\u001b[0m\n",
            "0.7581560283687944\n",
            "\u001b[1mPATHOLOGIC RECALL\u001b[0m\n",
            "0.7660098522167488\n",
            "\u001b[1mACCURACY\u001b[0m\n",
            "0.8841176470588235\n"
          ]
        }
      ]
    },
    {
      "cell_type": "code",
      "source": [
        "from sklearn.ensemble import RandomForestClassifier\n",
        "\n",
        "rForest = RandomForestClassifier(random_state=0,class_weight='balanced')\n",
        "\n",
        "parameters = {\n",
        "   'n_estimators':[50,75,100,125,150,175,200]\n",
        "}\n",
        "\n",
        "rForest = GridSearchCV(rForest, parameters)\n",
        "rForest.fit(X_train,y_train)\n",
        "\n",
        "print(\"\\033[1m HIPERPARÁMETROS ESCOGIDOS RANDOMFOREST\\033[0m \\n\")\n",
        "print(rForest.best_params_)\n",
        "\n"
      ],
      "metadata": {
        "id": "aJqu2vqCHIRY",
        "colab": {
          "base_uri": "https://localhost:8080/"
        },
        "outputId": "9a6271b9-1208-45eb-9705-c213bd61fa12"
      },
      "execution_count": null,
      "outputs": [
        {
          "output_type": "stream",
          "name": "stdout",
          "text": [
            "\u001b[1m HIPERPARÁMETROS ESCOGIDOS RANDOMFOREST\u001b[0m \n",
            "\n",
            "{'n_estimators': 50}\n"
          ]
        }
      ]
    },
    {
      "cell_type": "code",
      "source": [
        "rF_accu = []\n",
        "rF_balanced = []\n",
        "rF_recall_suspect = []\n",
        "rF_recall_pathologic = []\n",
        "\n",
        "for train_index, test_index in skf.split(X_train, y_train):\n",
        "    x_train_fold, x_test_fold = X_train[train_index],  X_train[test_index]\n",
        "    y_train_fold, y_test_fold =  y_train[train_index],  y_train[test_index]\n",
        "    rForest.fit(x_train_fold, y_train_fold)\n",
        "    y_pred = rForest.predict(x_test_fold)\n",
        "    rF_balanced.append(balanced_accuracy_score(y_test_fold, y_pred))\n",
        "    rF_recall_suspect.append(recall_score(y_test_fold, y_pred,labels=[2.0], average='micro'))\n",
        "    rF_recall_pathologic.append(recall_score(y_test_fold, y_pred,labels=[3.0], average='micro'))\n",
        "    rF_accu.append(accuracy_score(y_test_fold, y_pred))\n",
        "    "
      ],
      "metadata": {
        "id": "Kn7HBIHSHQ_P"
      },
      "execution_count": null,
      "outputs": []
    },
    {
      "cell_type": "code",
      "source": [
        "print(\"\\033[1m--RANDOM FOREST--\\033[0m\")\n",
        "\n",
        "print(\"\\033[1mBALANCED ACCURACY\\033[0m\")\n",
        "print( average(rF_balanced) )\n",
        "print(\"\\033[1mSUSPECT RECALL\\033[0m\")\n",
        "print( average(rF_recall_suspect) )\n",
        "print(\"\\033[1mPATHOLOGIC RECALL\\033[0m\")\n",
        "print( average(rF_recall_pathologic))\n",
        "print(\"\\033[1mACCURACY\\033[0m\")\n",
        "print( average(rF_accu))"
      ],
      "metadata": {
        "id": "iz9M2XqvHSIv",
        "colab": {
          "base_uri": "https://localhost:8080/"
        },
        "outputId": "8478db6c-722c-40a7-ac40-31225837676f"
      },
      "execution_count": null,
      "outputs": [
        {
          "output_type": "stream",
          "name": "stdout",
          "text": [
            "\u001b[1m--RANDOM FOREST--\u001b[0m\n",
            "\u001b[1mBALANCED ACCURACY\u001b[0m\n",
            "0.7653729427331637\n",
            "\u001b[1mSUSPECT RECALL\u001b[0m\n",
            "0.5418439716312057\n",
            "\u001b[1mPATHOLOGIC RECALL\u001b[0m\n",
            "0.7724137931034483\n",
            "\u001b[1mACCURACY\u001b[0m\n",
            "0.9035294117647059\n"
          ]
        }
      ]
    },
    {
      "cell_type": "code",
      "source": [
        "from sklearn.svm import SVC\n",
        "\n",
        "svc = SVC(gamma='auto',class_weight='balanced',kernel='poly')\n",
        "parameters = {\n",
        "     'C':[0.1,0.4,0.6,0.75,0.8,0.9,0.95,1,1.2,1.4,1.7,2],\n",
        "}\n",
        "svc = GridSearchCV(svc, parameters)\n",
        "svc.fit(X_train,y_train)\n",
        "\n",
        "\n",
        "print(\"\\033[1m HIPERPARÁMETROS ESCOGIDOS SVC\\033[0m \\n\")\n",
        "print(svc.best_params_)"
      ],
      "metadata": {
        "id": "bCYj0P7sNNNA",
        "colab": {
          "base_uri": "https://localhost:8080/"
        },
        "outputId": "179cfede-9481-4bc7-e813-c9647231d78b"
      },
      "execution_count": null,
      "outputs": [
        {
          "output_type": "stream",
          "name": "stdout",
          "text": [
            "\u001b[1m HIPERPARÁMETROS ESCOGIDOS SVC\u001b[0m \n",
            "\n",
            "{'C': 2}\n"
          ]
        }
      ]
    },
    {
      "cell_type": "code",
      "source": [
        "svm_accu = []\n",
        "svm_balanced = []\n",
        "svm_recall_suspect = []\n",
        "svm_recall_pathologic = []\n",
        "\n",
        "for train_index, test_index in skf.split(X_train, y_train):\n",
        "    x_train_fold, x_test_fold = X_train[train_index],  X_train[test_index]\n",
        "    y_train_fold, y_test_fold =  y_train[train_index],  y_train[test_index]\n",
        "    svc.fit(x_train_fold, y_train_fold)\n",
        "    y_pred = svc.predict(x_test_fold)\n",
        "    svm_balanced.append(balanced_accuracy_score(y_test_fold, y_pred))\n",
        "    svm_recall_suspect.append(recall_score(y_test_fold, y_pred,labels=[2.0], average='micro'))\n",
        "    svm_recall_pathologic.append(recall_score(y_test_fold, y_pred,labels=[3.0], average='micro'))\n",
        "    svm_accu.append(accuracy_score(y_test_fold, y_pred))"
      ],
      "metadata": {
        "id": "oJQjpc7iOYtR"
      },
      "execution_count": null,
      "outputs": []
    },
    {
      "cell_type": "code",
      "source": [
        "print(\"\\033[1m--SVM--\\033[0m\")\n",
        "\n",
        "print(\"\\033[1mBALANCED ACCURACY\\033[0m\")\n",
        "print( average(svm_balanced) )\n",
        "print(\"\\033[1mSUSPECT RECALL\\033[0m\")\n",
        "print( average(svm_recall_suspect) )\n",
        "print(\"\\033[1mPATHOLOGIC RECALL\\033[0m\")\n",
        "print( average(svm_recall_pathologic))\n",
        "print(\"\\033[1mACCURACY\\033[0m\")\n",
        "print( average(svm_accu))"
      ],
      "metadata": {
        "id": "Kv12f2-dOeg_",
        "colab": {
          "base_uri": "https://localhost:8080/"
        },
        "outputId": "53a1be63-1e75-4fe3-853f-ba350f3e1149"
      },
      "execution_count": null,
      "outputs": [
        {
          "output_type": "stream",
          "name": "stdout",
          "text": [
            "\u001b[1m--SVM--\u001b[0m\n",
            "\u001b[1mBALANCED ACCURACY\u001b[0m\n",
            "0.8673364435898179\n",
            "\u001b[1mSUSPECT RECALL\u001b[0m\n",
            "0.864095744680851\n",
            "\u001b[1mPATHOLOGIC RECALL\u001b[0m\n",
            "0.8362068965517242\n",
            "\u001b[1mACCURACY\u001b[0m\n",
            "0.8911764705882353\n"
          ]
        }
      ]
    },
    {
      "cell_type": "code",
      "source": [
        "#________________________TABLA SOBRE RESULTADOS________________________\n",
        "modelos = ['LR' ,'RF' ,'SVM']\n",
        "BA = [average(LR_balanced),average(rF_balanced),average(svm_balanced)]\n",
        "SR = [average(LR_recall_suspect),average(rF_recall_suspect),average(svm_recall_suspect)]\n",
        "PR = [average(LR_recall_pathologic),average(rF_recall_pathologic),average(svm_recall_pathologic)]\n",
        "AC = [average(LR_accu),average(rF_accu),average(svm_accu)]\n",
        "\n",
        "info = {'\\033[1mMODELO\\033[0m': modelos[:],\n",
        "        '\\033[1mBALANCED ACCURACY\\033[0m': BA[:],\n",
        "        '\\033[1mSUSPECT RECALL\\033[0m': SR[:],\n",
        "        '\\033[1mPATHOLOGIC RECALL\\033[0m': PR[:],\n",
        "        '\\033[1mACCURACY\\033[0m': AC[:]}\n",
        "print(\"\\033[1m\"+'\\nTabla 9.1 RESULTADOS  MEDIOS SOBRE CROSS-VALIDATION'+\"\\033[0m\")\n",
        "print(tabulate(info, headers='keys', tablefmt='fancy_grid'))\n",
        "print('\\n')"
      ],
      "metadata": {
        "colab": {
          "base_uri": "https://localhost:8080/"
        },
        "id": "SgyqmU0YZrUP",
        "outputId": "17431cee-b5d0-49a9-9995-5e74606baca4"
      },
      "execution_count": null,
      "outputs": [
        {
          "output_type": "stream",
          "name": "stdout",
          "text": [
            "\u001b[1m\n",
            "Tabla 9.1 RESULTADOS  MEDIOS SOBRE CROSS-VALIDATION\u001b[0m\n",
            "╒══════════╤═════════════════════╤══════════════════╤═════════════════════╤════════════╕\n",
            "│ \u001b[1mMODELO\u001b[0m   │   \u001b[1mBALANCED ACCURACY\u001b[0m │   \u001b[1mSUSPECT RECALL\u001b[0m │   \u001b[1mPATHOLOGIC RECALL\u001b[0m │   \u001b[1mACCURACY\u001b[0m │\n",
            "╞══════════╪═════════════════════╪══════════════════╪═════════════════════╪════════════╡\n",
            "│ LR       │            0.814426 │         0.758156 │            0.76601  │   0.884118 │\n",
            "├──────────┼─────────────────────┼──────────────────┼─────────────────────┼────────────┤\n",
            "│ RF       │            0.765373 │         0.541844 │            0.772414 │   0.903529 │\n",
            "├──────────┼─────────────────────┼──────────────────┼─────────────────────┼────────────┤\n",
            "│ SVM      │            0.867336 │         0.864096 │            0.836207 │   0.891176 │\n",
            "╘══════════╧═════════════════════╧══════════════════╧═════════════════════╧════════════╛\n",
            "\n",
            "\n"
          ]
        }
      ]
    },
    {
      "cell_type": "markdown",
      "source": [
        "**MODELO ESCOGIDO**\n",
        "\n",
        "Debido a que es el que presenta mayor capacidad en media tanto para detectar fetos sospechosos como patológicos, se tomara SVM como el mejor de los modelos. Para estimar el error fuera de la muestra previamente entrenaremos el modelo con todos los datos de entrenamiento y utilizaremos el error de test para medir los resultados del modelo."
      ],
      "metadata": {
        "id": "PynHyjzRp3mZ"
      }
    },
    {
      "cell_type": "code",
      "source": [
        "print('\\033[1m\\nEstimación del error de test\\033[0m', 1 - svc.score(X_test,y_test))"
      ],
      "metadata": {
        "colab": {
          "base_uri": "https://localhost:8080/"
        },
        "id": "2b4d2QXarJN6",
        "outputId": "bb355e7e-e6c9-4c08-955c-418b050cb3a2"
      },
      "execution_count": null,
      "outputs": [
        {
          "output_type": "stream",
          "name": "stdout",
          "text": [
            "\u001b[1m\n",
            "Estimación del error de test\u001b[0m 0.11267605633802813\n"
          ]
        }
      ]
    },
    {
      "cell_type": "markdown",
      "source": [
        "\n",
        "$$E_{out}(h) \\leq  0,15497 $$\n",
        " \n",
        " "
      ],
      "metadata": {
        "id": "8yIHr6yeryED"
      }
    },
    {
      "cell_type": "markdown",
      "source": [
        "---\n",
        "\n",
        "\n",
        "<font color=red size=5>10. Valoración de los resultados ( gráficas, métricas de error, análisis de residuos, etc )</font>"
      ],
      "metadata": {
        "id": "wKJSnZTJsUta"
      }
    },
    {
      "cell_type": "markdown",
      "source": [
        "Para medir si nuestro modelo ha aprendido realmente, podemos obtener un modelo como baseline y medir los resultados respecto de este. \n",
        "\n",
        "De cara a la comparativa usaremos un estimador que no utiliza parámetros para ajustar un modelo, siempre devolverá la etiqueta más frecuente y tendrá cierta precisión gracias a la descompensación dentro de las clases:\n",
        "**class sklearn.dummy.DummyClassifier**(*, strategy='prior', random_state=None, constant=None):\n",
        "- strategy{“most_frequent”, “prior”, “stratified”, “uniform”, “constant”}, default=”prior”\n",
        "Usaremos most_frequent que es la estretégia que queremos implementar\n",
        "- random_state: int, RandomState instance or None, default=None\n",
        "Aporta aleatoriedad al usar otras estrategias. No nos interesa.\n",
        "- constant: int or str or array-like of shape (n_outputs,), default=None\n",
        "Para la estrategia \"constante\".\n",
        "---\n",
        "Referencia:\n",
        "1. DummyClassifier = https://scikit-learn.org/stable/modules/generated/sklearn.dummy.DummyClassifier.html\n",
        " "
      ],
      "metadata": {
        "id": "SDrynjTecU9k"
      }
    },
    {
      "cell_type": "code",
      "source": [
        "from sklearn.dummy import DummyClassifier\n",
        "\n",
        "dummy_clf = DummyClassifier(strategy=\"most_frequent\")\n",
        "\n",
        "dummy_accu = []\n",
        "dummy_balanced = []\n",
        "dummy_recall_suspect = []\n",
        "dummy_recall_pathologic = []\n",
        "\n",
        "for train_index, test_index in skf.split(X_train, y_train):\n",
        "    x_train_fold, x_test_fold = X_train[train_index],  X_train[test_index]\n",
        "    y_train_fold, y_test_fold =  y_train[train_index],  y_train[test_index]\n",
        "    dummy_clf.fit(x_train_fold, y_train_fold)\n",
        "    y_pred = dummy_clf.predict(x_test_fold)\n",
        "    dummy_balanced.append(balanced_accuracy_score(y_test_fold, y_pred))\n",
        "    dummy_recall_suspect.append(recall_score(y_test_fold, y_pred,labels=[2.0], average='micro'))\n",
        "    dummy_recall_pathologic.append(recall_score(y_test_fold, y_pred,labels=[3.0], average='micro'))\n",
        "    dummy_accu.append(accuracy_score(y_test_fold, y_pred))\n"
      ],
      "metadata": {
        "id": "ZcEDNPNzW4vg"
      },
      "execution_count": null,
      "outputs": []
    },
    {
      "cell_type": "markdown",
      "source": [
        "Como se observa en la figura 10.1, los resultados de SVM mejoran considerablemente en todas la métricas respecto del baseline, esto nos indica que el modelo realmente a obtenido un aprendizaje."
      ],
      "metadata": {
        "id": "-UBzSGLOvy0B"
      }
    },
    {
      "cell_type": "code",
      "source": [
        "\n",
        "#________________________TABLA SOBRE RESULTADOS________________________\n",
        "modelos = ['DUMMY' ,'SVM']\n",
        "BA = [average(dummy_balanced),average(svm_balanced)]\n",
        "SR = [average(dummy_recall_suspect),average(svm_recall_suspect)]\n",
        "PR = [average(dummy_recall_pathologic),average(svm_recall_pathologic)]\n",
        "AC = [average(dummy_accu),average(svm_accu)]\n",
        "\n",
        "info = {'\\033[1mMODELO\\033[0m': modelos[:],\n",
        "        '\\033[1mBALANCED ACCURACY\\033[0m': BA[:],\n",
        "        '\\033[1mSUSPECT RECALL\\033[0m': SR[:],\n",
        "        '\\033[1mPATHOLOGIC RECALL\\033[0m': PR[:],\n",
        "        '\\033[1mACCURACY\\033[0m': AC[:]}\n",
        "print(\"\\033[1m\"+'\\nTabla 10.1 COMPARACIÓN CON UN MODELO DUMMY'+\"\\033[0m\")\n",
        "print(tabulate(info, headers='keys', tablefmt='fancy_grid'))\n",
        "print('\\n')"
      ],
      "metadata": {
        "colab": {
          "base_uri": "https://localhost:8080/"
        },
        "id": "-cd1SQZxW94E",
        "outputId": "1220fa07-0fbf-4988-e72f-b6e707713b8c"
      },
      "execution_count": null,
      "outputs": [
        {
          "output_type": "stream",
          "name": "stdout",
          "text": [
            "\u001b[1m\n",
            "Tabla 10.1 COMPARACIÓN CON UN MODELO DUMMY\u001b[0m\n",
            "╒══════════╤═════════════════════╤══════════════════╤═════════════════════╤════════════╕\n",
            "│ \u001b[1mMODELO\u001b[0m   │   \u001b[1mBALANCED ACCURACY\u001b[0m │   \u001b[1mSUSPECT RECALL\u001b[0m │   \u001b[1mPATHOLOGIC RECALL\u001b[0m │   \u001b[1mACCURACY\u001b[0m │\n",
            "╞══════════╪═════════════════════╪══════════════════╪═════════════════════╪════════════╡\n",
            "│ DUMMY    │            0.333333 │         0        │            0        │   0.778235 │\n",
            "├──────────┼─────────────────────┼──────────────────┼─────────────────────┼────────────┤\n",
            "│ SVM      │            0.867336 │         0.864096 │            0.836207 │   0.891176 │\n",
            "╘══════════╧═════════════════════╧══════════════════╧═════════════════════╧════════════╛\n",
            "\n",
            "\n"
          ]
        }
      ]
    },
    {
      "cell_type": "markdown",
      "source": [
        "Como se observa en la figura 10.2,en términos generales, se puede observar con las curvas de aprendizaje como el modelos obtiene mejor generalización conforme aumentamos el número de puntos con los que entrenar el modelo"
      ],
      "metadata": {
        "id": "TvCiFrrax0RW"
      }
    },
    {
      "cell_type": "code",
      "source": [
        "X_train_curva, X_test_curva, y_train_curva, y_test_curva = train_test_split(X_train, y_train, test_size = 0.1, random_state = 46752,stratify=y_train)\n",
        "\n",
        "ErroresIn = []\n",
        "ErroresTest = []\n",
        "point = []\n",
        "\n",
        "for i in range(50,X_train_curva.shape[0],50):\n",
        "  point.append(i)\n",
        "  conjuntoX = X_train_curva[:i]\n",
        "  etiquetasY = y_train_curva[:i]\n",
        "  svc.fit(conjuntoX,etiquetasY)\n",
        "  ErroresIn.append(1-svc.score(conjuntoX,etiquetasY))\n",
        "  ErroresTest.append(1-svc.score(X_test_curva,y_test_curva))"
      ],
      "metadata": {
        "id": "qsZcnA-wwfvT"
      },
      "execution_count": null,
      "outputs": []
    },
    {
      "cell_type": "code",
      "source": [
        "print('\\033[1mFIG 10.2: CURVAS DE APRENDIZAJE\\033[0m')\n",
        "\n",
        "plt.plot(point,ErroresTest,c='red',label='E_test')\n",
        "plt.plot(point,ErroresIn,c='blue',label = 'E_in')\n",
        "plt.legend()\n",
        "plt.xlabel('Número de elementos N')\n",
        "plt.ylabel('Error')\n"
      ],
      "metadata": {
        "colab": {
          "base_uri": "https://localhost:8080/",
          "height": 315
        },
        "id": "3ixNKtCWwpzx",
        "outputId": "4a0d56a4-9fe5-4ab0-885a-f2fd3c5c943b"
      },
      "execution_count": null,
      "outputs": [
        {
          "output_type": "stream",
          "name": "stdout",
          "text": [
            "\u001b[1mFIG 10.2: CURVAS DE APRENDIZAJE\u001b[0m\n"
          ]
        },
        {
          "output_type": "execute_result",
          "data": {
            "text/plain": [
              "Text(0, 0.5, 'Error')"
            ]
          },
          "metadata": {},
          "execution_count": 322
        },
        {
          "output_type": "display_data",
          "data": {
            "text/plain": [
              "<Figure size 432x288 with 1 Axes>"
            ],
            "image/png": "[encoded data removed]"
          },
          "metadata": {
            "needs_background": "light"
          }
        }
      ]
    },
    {
      "cell_type": "markdown",
      "source": [
        "\n",
        "\n",
        "<font color=red size=5>11. Argumente que se ha obtenido la mejor de las posibles soluciones para la muestra dada.\n",
        "Argumentar en términos de los errores de ajuste y generalización.</font>"
      ],
      "metadata": {
        "id": "BWSKvb11VbaG"
      }
    },
    {
      "cell_type": "markdown",
      "source": [
        "Se puede considerar que la solución es la mejor de las posibles gracias a que su función de perdida busca el hiperplano con máximo anchura entre clases. Podemos ver como en la figura 11.1 como a partir de ciertas iteraciones, el error queda constantes ya que el propio modelo evita el sobreajuste por naturaleza."
      ],
      "metadata": {
        "id": "MU0SvUwdy4ww"
      }
    },
    {
      "cell_type": "code",
      "source": [
        "mejorScore = 100.0\n",
        "ErroresIn = []\n",
        "ErroresTest = []\n",
        "point = []\n",
        "\n",
        "for i in np.arange(10, 10000, 200):\n",
        "    svm = SVC(max_iter=i,gamma='auto',class_weight='balanced',kernel='poly') \n",
        "    svm.fit(X_train, y_train)\n",
        "    point.append(i)\n",
        "    score = 1 - svm.score(X_test,y_test)\n",
        "    ErroresIn.append(1 - svm.score(X_train,y_train))\n",
        "    ErroresTest.append(score)\n",
        "    if score < mejorScore:\n",
        "      mejorModelo = svm\n",
        "      mejorScore = score\n",
        "    \n"
      ],
      "metadata": {
        "id": "gvQ9XQWmz91C"
      },
      "execution_count": null,
      "outputs": []
    },
    {
      "cell_type": "code",
      "source": [
        "print('\\033[1mFIG 11.1: EARLY-STOPPING\\033[0m')\n",
        "\n",
        "plt.plot(point,ErroresTest,c='red',label='E_test')\n",
        "plt.plot(point,ErroresIn,c='blue',label = 'E_in')\n",
        "plt.legend()\n",
        "plt.xlabel('Número de elementos N')\n",
        "plt.ylabel('Error')"
      ],
      "metadata": {
        "colab": {
          "base_uri": "https://localhost:8080/",
          "height": 315
        },
        "id": "PvTSvQas1f7y",
        "outputId": "1e352c08-e658-43d1-e73a-d95d324f36da"
      },
      "execution_count": null,
      "outputs": [
        {
          "output_type": "stream",
          "name": "stdout",
          "text": [
            "\u001b[1mFIG 11.1: EARLY-STOPPING\u001b[0m\n"
          ]
        },
        {
          "output_type": "execute_result",
          "data": {
            "text/plain": [
              "Text(0, 0.5, 'Error')"
            ]
          },
          "metadata": {},
          "execution_count": 326
        },
        {
          "output_type": "display_data",
          "data": {
            "text/plain": [
              "<Figure size 432x288 with 1 Axes>"
            ],
            "image/png": "[encoded data removed]"
          },
          "metadata": {
            "needs_background": "light"
          }
        }
      ]
    }
  ]
}